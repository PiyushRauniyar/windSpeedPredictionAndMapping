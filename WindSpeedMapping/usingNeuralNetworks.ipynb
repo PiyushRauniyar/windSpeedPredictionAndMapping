{
 "cells": [
  {
   "cell_type": "code",
   "execution_count": 1,
   "id": "9039028b",
   "metadata": {},
   "outputs": [],
   "source": [
    "import pandas as pd"
   ]
  },
  {
   "cell_type": "code",
   "execution_count": 2,
   "id": "5b832f38",
   "metadata": {},
   "outputs": [],
   "source": [
    "import numpy as np"
   ]
  },
  {
   "cell_type": "code",
   "execution_count": 3,
   "id": "dcb4cc5c",
   "metadata": {},
   "outputs": [],
   "source": [
    "file_path1 = 'moweapi00080_2023_11_16\\HDGeneratorIREG01.csv'\n",
    "data1 = pd.read_csv(file_path1)"
   ]
  },
  {
   "cell_type": "code",
   "execution_count": 4,
   "id": "8411d7ed",
   "metadata": {},
   "outputs": [],
   "source": [
    "file_path2 = \"moweapi00080_2023_11_16\\WindgeberHD.csv\"\n",
    "wind_speed_data = pd.read_csv(file_path2)"
   ]
  },
  {
   "cell_type": "code",
   "execution_count": 5,
   "id": "89bf3b2a",
   "metadata": {},
   "outputs": [
    {
     "data": {
      "text/html": [
       "<div>\n",
       "<style scoped>\n",
       "    .dataframe tbody tr th:only-of-type {\n",
       "        vertical-align: middle;\n",
       "    }\n",
       "\n",
       "    .dataframe tbody tr th {\n",
       "        vertical-align: top;\n",
       "    }\n",
       "\n",
       "    .dataframe thead th {\n",
       "        text-align: right;\n",
       "    }\n",
       "</style>\n",
       "<table border=\"1\" class=\"dataframe\">\n",
       "  <thead>\n",
       "    <tr style=\"text-align: right;\">\n",
       "      <th></th>\n",
       "      <th>name</th>\n",
       "      <th>time</th>\n",
       "      <th>TURBINEID</th>\n",
       "      <th>DEVICETYPE</th>\n",
       "      <th>DEVICEID</th>\n",
       "      <th>IREG_UBUS</th>\n",
       "      <th>IREG_IBUS</th>\n",
       "      <th>IREG_SPEED</th>\n",
       "      <th>IREG_PWM</th>\n",
       "      <th>IREG_CHOPPER_PWM</th>\n",
       "      <th>IREG_IGBT_TEMP</th>\n",
       "      <th>IREG_MOTOR_TEMP</th>\n",
       "    </tr>\n",
       "  </thead>\n",
       "  <tbody>\n",
       "    <tr>\n",
       "      <th>0</th>\n",
       "      <td>GeneratorIREG01</td>\n",
       "      <td>1698939803000000000</td>\n",
       "      <td>01</td>\n",
       "      <td>Generator</td>\n",
       "      <td>x001</td>\n",
       "      <td>0.5</td>\n",
       "      <td>-0.007</td>\n",
       "      <td>0</td>\n",
       "      <td>0</td>\n",
       "      <td>0</td>\n",
       "      <td>0</td>\n",
       "      <td>12</td>\n",
       "    </tr>\n",
       "    <tr>\n",
       "      <th>1</th>\n",
       "      <td>GeneratorIREG01</td>\n",
       "      <td>1698939813000000000</td>\n",
       "      <td>01</td>\n",
       "      <td>Generator</td>\n",
       "      <td>x001</td>\n",
       "      <td>0.3</td>\n",
       "      <td>-0.007</td>\n",
       "      <td>0</td>\n",
       "      <td>0</td>\n",
       "      <td>0</td>\n",
       "      <td>0</td>\n",
       "      <td>12</td>\n",
       "    </tr>\n",
       "    <tr>\n",
       "      <th>2</th>\n",
       "      <td>GeneratorIREG01</td>\n",
       "      <td>1698939823000000000</td>\n",
       "      <td>01</td>\n",
       "      <td>Generator</td>\n",
       "      <td>x001</td>\n",
       "      <td>0.2</td>\n",
       "      <td>-0.007</td>\n",
       "      <td>0</td>\n",
       "      <td>0</td>\n",
       "      <td>0</td>\n",
       "      <td>0</td>\n",
       "      <td>12</td>\n",
       "    </tr>\n",
       "    <tr>\n",
       "      <th>3</th>\n",
       "      <td>GeneratorIREG01</td>\n",
       "      <td>1698939833000000000</td>\n",
       "      <td>01</td>\n",
       "      <td>Generator</td>\n",
       "      <td>x001</td>\n",
       "      <td>0</td>\n",
       "      <td>-0.007</td>\n",
       "      <td>0</td>\n",
       "      <td>0</td>\n",
       "      <td>0</td>\n",
       "      <td>0</td>\n",
       "      <td>11</td>\n",
       "    </tr>\n",
       "    <tr>\n",
       "      <th>4</th>\n",
       "      <td>GeneratorIREG01</td>\n",
       "      <td>1698939843000000000</td>\n",
       "      <td>01</td>\n",
       "      <td>Generator</td>\n",
       "      <td>x001</td>\n",
       "      <td>0</td>\n",
       "      <td>-0.007</td>\n",
       "      <td>0</td>\n",
       "      <td>0</td>\n",
       "      <td>0</td>\n",
       "      <td>0</td>\n",
       "      <td>11</td>\n",
       "    </tr>\n",
       "  </tbody>\n",
       "</table>\n",
       "</div>"
      ],
      "text/plain": [
       "              name                 time TURBINEID DEVICETYPE DEVICEID  \\\n",
       "0  GeneratorIREG01  1698939803000000000        01  Generator     x001   \n",
       "1  GeneratorIREG01  1698939813000000000        01  Generator     x001   \n",
       "2  GeneratorIREG01  1698939823000000000        01  Generator     x001   \n",
       "3  GeneratorIREG01  1698939833000000000        01  Generator     x001   \n",
       "4  GeneratorIREG01  1698939843000000000        01  Generator     x001   \n",
       "\n",
       "  IREG_UBUS IREG_IBUS IREG_SPEED IREG_PWM IREG_CHOPPER_PWM IREG_IGBT_TEMP  \\\n",
       "0       0.5    -0.007          0        0                0              0   \n",
       "1       0.3    -0.007          0        0                0              0   \n",
       "2       0.2    -0.007          0        0                0              0   \n",
       "3         0    -0.007          0        0                0              0   \n",
       "4         0    -0.007          0        0                0              0   \n",
       "\n",
       "  IREG_MOTOR_TEMP  \n",
       "0              12  \n",
       "1              12  \n",
       "2              12  \n",
       "3              11  \n",
       "4              11  "
      ]
     },
     "execution_count": 5,
     "metadata": {},
     "output_type": "execute_result"
    }
   ],
   "source": [
    "data1.head()"
   ]
  },
  {
   "cell_type": "code",
   "execution_count": 6,
   "id": "65cddd7f",
   "metadata": {},
   "outputs": [
    {
     "data": {
      "text/html": [
       "<div>\n",
       "<style scoped>\n",
       "    .dataframe tbody tr th:only-of-type {\n",
       "        vertical-align: middle;\n",
       "    }\n",
       "\n",
       "    .dataframe tbody tr th {\n",
       "        vertical-align: top;\n",
       "    }\n",
       "\n",
       "    .dataframe thead th {\n",
       "        text-align: right;\n",
       "    }\n",
       "</style>\n",
       "<table border=\"1\" class=\"dataframe\">\n",
       "  <thead>\n",
       "    <tr style=\"text-align: right;\">\n",
       "      <th></th>\n",
       "      <th>name</th>\n",
       "      <th>time</th>\n",
       "      <th>windspeed</th>\n",
       "      <th>windspeed_MW</th>\n",
       "    </tr>\n",
       "  </thead>\n",
       "  <tbody>\n",
       "    <tr>\n",
       "      <th>0</th>\n",
       "      <td>windgeber</td>\n",
       "      <td>1698745499000000000</td>\n",
       "      <td>7.2</td>\n",
       "      <td>9</td>\n",
       "    </tr>\n",
       "    <tr>\n",
       "      <th>1</th>\n",
       "      <td>windgeber</td>\n",
       "      <td>1698745500000000000</td>\n",
       "      <td>7.2</td>\n",
       "      <td>9</td>\n",
       "    </tr>\n",
       "    <tr>\n",
       "      <th>2</th>\n",
       "      <td>windgeber</td>\n",
       "      <td>1698745501000000000</td>\n",
       "      <td>7.2</td>\n",
       "      <td>9</td>\n",
       "    </tr>\n",
       "    <tr>\n",
       "      <th>3</th>\n",
       "      <td>windgeber</td>\n",
       "      <td>1698745502000000000</td>\n",
       "      <td>6.8</td>\n",
       "      <td>8.9</td>\n",
       "    </tr>\n",
       "    <tr>\n",
       "      <th>4</th>\n",
       "      <td>windgeber</td>\n",
       "      <td>1698745503000000000</td>\n",
       "      <td>7.6</td>\n",
       "      <td>8.9</td>\n",
       "    </tr>\n",
       "  </tbody>\n",
       "</table>\n",
       "</div>"
      ],
      "text/plain": [
       "        name                 time windspeed windspeed_MW\n",
       "0  windgeber  1698745499000000000       7.2            9\n",
       "1  windgeber  1698745500000000000       7.2            9\n",
       "2  windgeber  1698745501000000000       7.2            9\n",
       "3  windgeber  1698745502000000000       6.8          8.9\n",
       "4  windgeber  1698745503000000000       7.6          8.9"
      ]
     },
     "execution_count": 6,
     "metadata": {},
     "output_type": "execute_result"
    }
   ],
   "source": [
    "wind_speed_data.head()"
   ]
  },
  {
   "cell_type": "code",
   "execution_count": 7,
   "id": "31a60273",
   "metadata": {},
   "outputs": [],
   "source": [
    "data1.drop(columns=['name'], inplace=True)\n",
    "data1.drop(columns=['TURBINEID'], inplace=True)\n",
    "data1.drop(columns=['DEVICETYPE'], inplace=True)\n",
    "data1.drop(columns=['DEVICEID'], inplace=True)"
   ]
  },
  {
   "cell_type": "code",
   "execution_count": 8,
   "id": "6915497a",
   "metadata": {},
   "outputs": [],
   "source": [
    "wind_speed_data.drop(columns=['windspeed_MW'], inplace=True)\n",
    "wind_speed_data.drop(columns=['name'], inplace=True)"
   ]
  },
  {
   "cell_type": "code",
   "execution_count": 9,
   "id": "fec2ce10",
   "metadata": {},
   "outputs": [
    {
     "data": {
      "text/html": [
       "<div>\n",
       "<style scoped>\n",
       "    .dataframe tbody tr th:only-of-type {\n",
       "        vertical-align: middle;\n",
       "    }\n",
       "\n",
       "    .dataframe tbody tr th {\n",
       "        vertical-align: top;\n",
       "    }\n",
       "\n",
       "    .dataframe thead th {\n",
       "        text-align: right;\n",
       "    }\n",
       "</style>\n",
       "<table border=\"1\" class=\"dataframe\">\n",
       "  <thead>\n",
       "    <tr style=\"text-align: right;\">\n",
       "      <th></th>\n",
       "      <th>time</th>\n",
       "      <th>windspeed</th>\n",
       "    </tr>\n",
       "  </thead>\n",
       "  <tbody>\n",
       "    <tr>\n",
       "      <th>0</th>\n",
       "      <td>1698745499000000000</td>\n",
       "      <td>7.2</td>\n",
       "    </tr>\n",
       "    <tr>\n",
       "      <th>1</th>\n",
       "      <td>1698745500000000000</td>\n",
       "      <td>7.2</td>\n",
       "    </tr>\n",
       "    <tr>\n",
       "      <th>2</th>\n",
       "      <td>1698745501000000000</td>\n",
       "      <td>7.2</td>\n",
       "    </tr>\n",
       "    <tr>\n",
       "      <th>3</th>\n",
       "      <td>1698745502000000000</td>\n",
       "      <td>6.8</td>\n",
       "    </tr>\n",
       "    <tr>\n",
       "      <th>4</th>\n",
       "      <td>1698745503000000000</td>\n",
       "      <td>7.6</td>\n",
       "    </tr>\n",
       "  </tbody>\n",
       "</table>\n",
       "</div>"
      ],
      "text/plain": [
       "                  time windspeed\n",
       "0  1698745499000000000       7.2\n",
       "1  1698745500000000000       7.2\n",
       "2  1698745501000000000       7.2\n",
       "3  1698745502000000000       6.8\n",
       "4  1698745503000000000       7.6"
      ]
     },
     "execution_count": 9,
     "metadata": {},
     "output_type": "execute_result"
    }
   ],
   "source": [
    "wind_speed_data.head()"
   ]
  },
  {
   "cell_type": "code",
   "execution_count": 10,
   "id": "d874454d",
   "metadata": {},
   "outputs": [],
   "source": [
    "# data1.columns"
   ]
  },
  {
   "cell_type": "code",
   "execution_count": 11,
   "id": "6d4b7d02",
   "metadata": {},
   "outputs": [
    {
     "data": {
      "text/html": [
       "<div>\n",
       "<style scoped>\n",
       "    .dataframe tbody tr th:only-of-type {\n",
       "        vertical-align: middle;\n",
       "    }\n",
       "\n",
       "    .dataframe tbody tr th {\n",
       "        vertical-align: top;\n",
       "    }\n",
       "\n",
       "    .dataframe thead th {\n",
       "        text-align: right;\n",
       "    }\n",
       "</style>\n",
       "<table border=\"1\" class=\"dataframe\">\n",
       "  <thead>\n",
       "    <tr style=\"text-align: right;\">\n",
       "      <th></th>\n",
       "      <th>time</th>\n",
       "      <th>IREG_UBUS</th>\n",
       "      <th>IREG_IBUS</th>\n",
       "      <th>IREG_SPEED</th>\n",
       "      <th>IREG_PWM</th>\n",
       "      <th>IREG_CHOPPER_PWM</th>\n",
       "      <th>IREG_IGBT_TEMP</th>\n",
       "      <th>IREG_MOTOR_TEMP</th>\n",
       "    </tr>\n",
       "  </thead>\n",
       "  <tbody>\n",
       "    <tr>\n",
       "      <th>count</th>\n",
       "      <td>144006</td>\n",
       "      <td>144006</td>\n",
       "      <td>144006</td>\n",
       "      <td>144006</td>\n",
       "      <td>144006</td>\n",
       "      <td>144006</td>\n",
       "      <td>144006</td>\n",
       "      <td>144006</td>\n",
       "    </tr>\n",
       "    <tr>\n",
       "      <th>unique</th>\n",
       "      <td>143993</td>\n",
       "      <td>1427</td>\n",
       "      <td>1894</td>\n",
       "      <td>789</td>\n",
       "      <td>80</td>\n",
       "      <td>11</td>\n",
       "      <td>3</td>\n",
       "      <td>53</td>\n",
       "    </tr>\n",
       "    <tr>\n",
       "      <th>top</th>\n",
       "      <td>time</td>\n",
       "      <td>0</td>\n",
       "      <td>-0.007</td>\n",
       "      <td>0</td>\n",
       "      <td>0</td>\n",
       "      <td>0</td>\n",
       "      <td>0</td>\n",
       "      <td>10</td>\n",
       "    </tr>\n",
       "    <tr>\n",
       "      <th>freq</th>\n",
       "      <td>14</td>\n",
       "      <td>65161</td>\n",
       "      <td>97068</td>\n",
       "      <td>113941</td>\n",
       "      <td>72169</td>\n",
       "      <td>143978</td>\n",
       "      <td>143881</td>\n",
       "      <td>20780</td>\n",
       "    </tr>\n",
       "  </tbody>\n",
       "</table>\n",
       "</div>"
      ],
      "text/plain": [
       "          time IREG_UBUS IREG_IBUS IREG_SPEED IREG_PWM IREG_CHOPPER_PWM  \\\n",
       "count   144006    144006    144006     144006   144006           144006   \n",
       "unique  143993      1427      1894        789       80               11   \n",
       "top       time         0    -0.007          0        0                0   \n",
       "freq        14     65161     97068     113941    72169           143978   \n",
       "\n",
       "       IREG_IGBT_TEMP IREG_MOTOR_TEMP  \n",
       "count          144006          144006  \n",
       "unique              3              53  \n",
       "top                 0              10  \n",
       "freq           143881           20780  "
      ]
     },
     "execution_count": 11,
     "metadata": {},
     "output_type": "execute_result"
    }
   ],
   "source": [
    "data1.describe()"
   ]
  },
  {
   "cell_type": "code",
   "execution_count": 12,
   "id": "5394a434",
   "metadata": {},
   "outputs": [
    {
     "name": "stdout",
     "output_type": "stream",
     "text": [
      "data1 size:  144006\n",
      "wind_speed_data size:  1378140\n",
      "data1 size:  144006\n",
      "wind_speed_data size:  1378140\n"
     ]
    }
   ],
   "source": [
    "print(\"data1 size: \",len(data1))\n",
    "print(\"wind_speed_data size: \",len(wind_speed_data))"
   ]
  },
  {
   "cell_type": "code",
   "execution_count": 13,
   "id": "bed3efc1",
   "metadata": {},
   "outputs": [
    {
     "name": "stdout",
     "output_type": "stream",
     "text": [
      "13\n",
      "136\n"
     ]
    }
   ],
   "source": [
    "print(data1['time'].duplicated().sum())  # Number of duplicate entries in df1\n",
    "print(wind_speed_data['time'].duplicated().sum())  # Number of duplicate entries in df2"
   ]
  },
  {
   "cell_type": "code",
   "execution_count": 14,
   "id": "d3009d15",
   "metadata": {},
   "outputs": [],
   "source": [
    "data1 = data1.drop_duplicates(subset='time')\n",
    "wind_speed_data = wind_speed_data.drop_duplicates(subset='time')"
   ]
  },
  {
   "cell_type": "code",
   "execution_count": 15,
   "id": "57882ff1",
   "metadata": {},
   "outputs": [],
   "source": [
    "# Merging both DataFrames based on 'time' column, keeping only the intersection\n",
    "merged_df = pd.merge(data1, wind_speed_data, on='time', how='inner')"
   ]
  },
  {
   "cell_type": "code",
   "execution_count": 16,
   "id": "b74ee975",
   "metadata": {},
   "outputs": [
    {
     "name": "stdout",
     "output_type": "stream",
     "text": [
      "143993\n",
      "1378004\n",
      "143706\n"
     ]
    }
   ],
   "source": [
    "print(len(data1['time'].unique()))\n",
    "print(len(wind_speed_data['time'].unique()))\n",
    "print(len(merged_df['time'].unique()))"
   ]
  },
  {
   "cell_type": "code",
   "execution_count": 17,
   "id": "53b03f85",
   "metadata": {},
   "outputs": [
    {
     "data": {
      "text/html": [
       "<div>\n",
       "<style scoped>\n",
       "    .dataframe tbody tr th:only-of-type {\n",
       "        vertical-align: middle;\n",
       "    }\n",
       "\n",
       "    .dataframe tbody tr th {\n",
       "        vertical-align: top;\n",
       "    }\n",
       "\n",
       "    .dataframe thead th {\n",
       "        text-align: right;\n",
       "    }\n",
       "</style>\n",
       "<table border=\"1\" class=\"dataframe\">\n",
       "  <thead>\n",
       "    <tr style=\"text-align: right;\">\n",
       "      <th></th>\n",
       "      <th>time</th>\n",
       "      <th>IREG_UBUS</th>\n",
       "      <th>IREG_IBUS</th>\n",
       "      <th>IREG_SPEED</th>\n",
       "      <th>IREG_PWM</th>\n",
       "      <th>IREG_CHOPPER_PWM</th>\n",
       "      <th>IREG_IGBT_TEMP</th>\n",
       "      <th>IREG_MOTOR_TEMP</th>\n",
       "      <th>windspeed</th>\n",
       "    </tr>\n",
       "  </thead>\n",
       "  <tbody>\n",
       "    <tr>\n",
       "      <th>0</th>\n",
       "      <td>1698939803000000000</td>\n",
       "      <td>0.5</td>\n",
       "      <td>-0.007</td>\n",
       "      <td>0</td>\n",
       "      <td>0</td>\n",
       "      <td>0</td>\n",
       "      <td>0</td>\n",
       "      <td>12</td>\n",
       "      <td>5.2</td>\n",
       "    </tr>\n",
       "    <tr>\n",
       "      <th>1</th>\n",
       "      <td>1698939813000000000</td>\n",
       "      <td>0.3</td>\n",
       "      <td>-0.007</td>\n",
       "      <td>0</td>\n",
       "      <td>0</td>\n",
       "      <td>0</td>\n",
       "      <td>0</td>\n",
       "      <td>12</td>\n",
       "      <td>5.6</td>\n",
       "    </tr>\n",
       "    <tr>\n",
       "      <th>2</th>\n",
       "      <td>1698939823000000000</td>\n",
       "      <td>0.2</td>\n",
       "      <td>-0.007</td>\n",
       "      <td>0</td>\n",
       "      <td>0</td>\n",
       "      <td>0</td>\n",
       "      <td>0</td>\n",
       "      <td>12</td>\n",
       "      <td>5.2</td>\n",
       "    </tr>\n",
       "    <tr>\n",
       "      <th>3</th>\n",
       "      <td>1698939833000000000</td>\n",
       "      <td>0</td>\n",
       "      <td>-0.007</td>\n",
       "      <td>0</td>\n",
       "      <td>0</td>\n",
       "      <td>0</td>\n",
       "      <td>0</td>\n",
       "      <td>11</td>\n",
       "      <td>6</td>\n",
       "    </tr>\n",
       "    <tr>\n",
       "      <th>4</th>\n",
       "      <td>1698939843000000000</td>\n",
       "      <td>0</td>\n",
       "      <td>-0.007</td>\n",
       "      <td>0</td>\n",
       "      <td>0</td>\n",
       "      <td>0</td>\n",
       "      <td>0</td>\n",
       "      <td>11</td>\n",
       "      <td>6</td>\n",
       "    </tr>\n",
       "  </tbody>\n",
       "</table>\n",
       "</div>"
      ],
      "text/plain": [
       "                  time IREG_UBUS IREG_IBUS IREG_SPEED IREG_PWM  \\\n",
       "0  1698939803000000000       0.5    -0.007          0        0   \n",
       "1  1698939813000000000       0.3    -0.007          0        0   \n",
       "2  1698939823000000000       0.2    -0.007          0        0   \n",
       "3  1698939833000000000         0    -0.007          0        0   \n",
       "4  1698939843000000000         0    -0.007          0        0   \n",
       "\n",
       "  IREG_CHOPPER_PWM IREG_IGBT_TEMP IREG_MOTOR_TEMP windspeed  \n",
       "0                0              0              12       5.2  \n",
       "1                0              0              12       5.6  \n",
       "2                0              0              12       5.2  \n",
       "3                0              0              11         6  \n",
       "4                0              0              11         6  "
      ]
     },
     "execution_count": 17,
     "metadata": {},
     "output_type": "execute_result"
    }
   ],
   "source": [
    "merged_df.head()"
   ]
  },
  {
   "cell_type": "code",
   "execution_count": 18,
   "id": "dc88249c",
   "metadata": {},
   "outputs": [
    {
     "data": {
      "text/plain": [
       "143706"
      ]
     },
     "execution_count": 18,
     "metadata": {},
     "output_type": "execute_result"
    }
   ],
   "source": [
    "len(merged_df)"
   ]
  },
  {
   "cell_type": "code",
   "execution_count": 19,
   "id": "d8f09563",
   "metadata": {},
   "outputs": [
    {
     "data": {
      "text/html": [
       "<div>\n",
       "<style scoped>\n",
       "    .dataframe tbody tr th:only-of-type {\n",
       "        vertical-align: middle;\n",
       "    }\n",
       "\n",
       "    .dataframe tbody tr th {\n",
       "        vertical-align: top;\n",
       "    }\n",
       "\n",
       "    .dataframe thead th {\n",
       "        text-align: right;\n",
       "    }\n",
       "</style>\n",
       "<table border=\"1\" class=\"dataframe\">\n",
       "  <thead>\n",
       "    <tr style=\"text-align: right;\">\n",
       "      <th></th>\n",
       "      <th>time</th>\n",
       "      <th>IREG_UBUS</th>\n",
       "      <th>IREG_IBUS</th>\n",
       "      <th>IREG_SPEED</th>\n",
       "      <th>IREG_PWM</th>\n",
       "      <th>IREG_CHOPPER_PWM</th>\n",
       "      <th>IREG_IGBT_TEMP</th>\n",
       "      <th>IREG_MOTOR_TEMP</th>\n",
       "      <th>windspeed</th>\n",
       "    </tr>\n",
       "  </thead>\n",
       "  <tbody>\n",
       "    <tr>\n",
       "      <th>count</th>\n",
       "      <td>143706</td>\n",
       "      <td>143706</td>\n",
       "      <td>143706</td>\n",
       "      <td>143706</td>\n",
       "      <td>143706</td>\n",
       "      <td>143706</td>\n",
       "      <td>143706</td>\n",
       "      <td>143706</td>\n",
       "      <td>143706</td>\n",
       "    </tr>\n",
       "    <tr>\n",
       "      <th>unique</th>\n",
       "      <td>143706</td>\n",
       "      <td>1427</td>\n",
       "      <td>1894</td>\n",
       "      <td>789</td>\n",
       "      <td>80</td>\n",
       "      <td>11</td>\n",
       "      <td>3</td>\n",
       "      <td>53</td>\n",
       "      <td>48</td>\n",
       "    </tr>\n",
       "    <tr>\n",
       "      <th>top</th>\n",
       "      <td>1698939803000000000</td>\n",
       "      <td>0</td>\n",
       "      <td>-0.007</td>\n",
       "      <td>0</td>\n",
       "      <td>0</td>\n",
       "      <td>0</td>\n",
       "      <td>0</td>\n",
       "      <td>10</td>\n",
       "      <td>4</td>\n",
       "    </tr>\n",
       "    <tr>\n",
       "      <th>freq</th>\n",
       "      <td>1</td>\n",
       "      <td>65053</td>\n",
       "      <td>96895</td>\n",
       "      <td>113735</td>\n",
       "      <td>72046</td>\n",
       "      <td>143691</td>\n",
       "      <td>143594</td>\n",
       "      <td>20741</td>\n",
       "      <td>10061</td>\n",
       "    </tr>\n",
       "  </tbody>\n",
       "</table>\n",
       "</div>"
      ],
      "text/plain": [
       "                       time IREG_UBUS IREG_IBUS IREG_SPEED IREG_PWM  \\\n",
       "count                143706    143706    143706     143706   143706   \n",
       "unique               143706      1427      1894        789       80   \n",
       "top     1698939803000000000         0    -0.007          0        0   \n",
       "freq                      1     65053     96895     113735    72046   \n",
       "\n",
       "       IREG_CHOPPER_PWM IREG_IGBT_TEMP IREG_MOTOR_TEMP windspeed  \n",
       "count            143706         143706          143706    143706  \n",
       "unique               11              3              53        48  \n",
       "top                   0              0              10         4  \n",
       "freq             143691         143594           20741     10061  "
      ]
     },
     "execution_count": 19,
     "metadata": {},
     "output_type": "execute_result"
    }
   ],
   "source": [
    "merged_df.describe()"
   ]
  },
  {
   "cell_type": "markdown",
   "id": "3c1de4a7",
   "metadata": {},
   "source": [
    "## Filtering data for MPPT Mode\n",
    "Because mapping is required only when the turbine is in MPPT mode"
   ]
  },
  {
   "cell_type": "code",
   "execution_count": 20,
   "id": "c76ab19c",
   "metadata": {},
   "outputs": [],
   "source": [
    "merged_df['IREG_SPEED'] = pd.to_numeric(merged_df['IREG_SPEED'], errors='coerce')"
   ]
  },
  {
   "cell_type": "code",
   "execution_count": 21,
   "id": "d25d662c",
   "metadata": {},
   "outputs": [
    {
     "data": {
      "text/plain": [
       "0           0.0\n",
       "1           0.0\n",
       "2           0.0\n",
       "3           0.0\n",
       "4           0.0\n",
       "          ...  \n",
       "143701    326.0\n",
       "143702    361.0\n",
       "143703    329.0\n",
       "143704    379.0\n",
       "143705    370.0\n",
       "Name: IREG_SPEED, Length: 143706, dtype: float64"
      ]
     },
     "execution_count": 21,
     "metadata": {},
     "output_type": "execute_result"
    }
   ],
   "source": [
    "merged_df['IREG_SPEED']"
   ]
  },
  {
   "cell_type": "code",
   "execution_count": 22,
   "id": "1521183e",
   "metadata": {},
   "outputs": [],
   "source": [
    "filtered_data = merged_df[(merged_df['IREG_SPEED'] >= 400) & (merged_df['IREG_SPEED'] <= 750)]"
   ]
  },
  {
   "cell_type": "code",
   "execution_count": 23,
   "id": "4a1c82d4",
   "metadata": {},
   "outputs": [
    {
     "data": {
      "text/plain": [
       "22973"
      ]
     },
     "execution_count": 23,
     "metadata": {},
     "output_type": "execute_result"
    }
   ],
   "source": [
    "len(filtered_data)"
   ]
  },
  {
   "cell_type": "code",
   "execution_count": 24,
   "id": "c0312669",
   "metadata": {},
   "outputs": [
    {
     "data": {
      "text/plain": [
       "1348.0"
      ]
     },
     "execution_count": 24,
     "metadata": {},
     "output_type": "execute_result"
    }
   ],
   "source": [
    "merged_df['IREG_SPEED'].max()"
   ]
  },
  {
   "cell_type": "code",
   "execution_count": 25,
   "id": "8cacc36f",
   "metadata": {},
   "outputs": [
    {
     "data": {
      "text/plain": [
       "750.0"
      ]
     },
     "execution_count": 25,
     "metadata": {},
     "output_type": "execute_result"
    }
   ],
   "source": [
    "filtered_data['IREG_SPEED'].max()"
   ]
  },
  {
   "cell_type": "code",
   "execution_count": 26,
   "id": "5c78e1dd",
   "metadata": {},
   "outputs": [
    {
     "data": {
      "text/plain": [
       "400.0"
      ]
     },
     "execution_count": 26,
     "metadata": {},
     "output_type": "execute_result"
    }
   ],
   "source": [
    "filtered_data['IREG_SPEED'].min()"
   ]
  },
  {
   "cell_type": "code",
   "execution_count": 27,
   "id": "47ab7557",
   "metadata": {},
   "outputs": [],
   "source": [
    "filtered_data.reset_index(drop=True, inplace=True)"
   ]
  },
  {
   "cell_type": "code",
   "execution_count": 28,
   "id": "894de92b",
   "metadata": {},
   "outputs": [
    {
     "data": {
      "text/html": [
       "<div>\n",
       "<style scoped>\n",
       "    .dataframe tbody tr th:only-of-type {\n",
       "        vertical-align: middle;\n",
       "    }\n",
       "\n",
       "    .dataframe tbody tr th {\n",
       "        vertical-align: top;\n",
       "    }\n",
       "\n",
       "    .dataframe thead th {\n",
       "        text-align: right;\n",
       "    }\n",
       "</style>\n",
       "<table border=\"1\" class=\"dataframe\">\n",
       "  <thead>\n",
       "    <tr style=\"text-align: right;\">\n",
       "      <th></th>\n",
       "      <th>time</th>\n",
       "      <th>IREG_UBUS</th>\n",
       "      <th>IREG_IBUS</th>\n",
       "      <th>IREG_SPEED</th>\n",
       "      <th>IREG_PWM</th>\n",
       "      <th>IREG_CHOPPER_PWM</th>\n",
       "      <th>IREG_IGBT_TEMP</th>\n",
       "      <th>IREG_MOTOR_TEMP</th>\n",
       "      <th>windspeed</th>\n",
       "    </tr>\n",
       "  </thead>\n",
       "  <tbody>\n",
       "    <tr>\n",
       "      <th>0</th>\n",
       "      <td>1698940293000000000</td>\n",
       "      <td>201.1</td>\n",
       "      <td>0.99</td>\n",
       "      <td>696.0</td>\n",
       "      <td>62</td>\n",
       "      <td>0</td>\n",
       "      <td>0</td>\n",
       "      <td>12</td>\n",
       "      <td>5.2</td>\n",
       "    </tr>\n",
       "    <tr>\n",
       "      <th>1</th>\n",
       "      <td>1698940303000000000</td>\n",
       "      <td>198.3</td>\n",
       "      <td>1.485</td>\n",
       "      <td>701.0</td>\n",
       "      <td>64</td>\n",
       "      <td>0</td>\n",
       "      <td>0</td>\n",
       "      <td>12</td>\n",
       "      <td>4.4</td>\n",
       "    </tr>\n",
       "    <tr>\n",
       "      <th>2</th>\n",
       "      <td>1698940313000000000</td>\n",
       "      <td>204.8</td>\n",
       "      <td>1.321</td>\n",
       "      <td>733.0</td>\n",
       "      <td>61</td>\n",
       "      <td>0</td>\n",
       "      <td>0</td>\n",
       "      <td>13</td>\n",
       "      <td>6</td>\n",
       "    </tr>\n",
       "    <tr>\n",
       "      <th>3</th>\n",
       "      <td>1698940323000000000</td>\n",
       "      <td>198.2</td>\n",
       "      <td>0.46</td>\n",
       "      <td>621.0</td>\n",
       "      <td>63</td>\n",
       "      <td>0</td>\n",
       "      <td>0</td>\n",
       "      <td>14</td>\n",
       "      <td>4.8</td>\n",
       "    </tr>\n",
       "    <tr>\n",
       "      <th>4</th>\n",
       "      <td>1698940333000000000</td>\n",
       "      <td>198.6</td>\n",
       "      <td>0.247</td>\n",
       "      <td>588.0</td>\n",
       "      <td>64</td>\n",
       "      <td>0</td>\n",
       "      <td>0</td>\n",
       "      <td>14</td>\n",
       "      <td>5.2</td>\n",
       "    </tr>\n",
       "    <tr>\n",
       "      <th>...</th>\n",
       "      <td>...</td>\n",
       "      <td>...</td>\n",
       "      <td>...</td>\n",
       "      <td>...</td>\n",
       "      <td>...</td>\n",
       "      <td>...</td>\n",
       "      <td>...</td>\n",
       "      <td>...</td>\n",
       "      <td>...</td>\n",
       "    </tr>\n",
       "    <tr>\n",
       "      <th>22968</th>\n",
       "      <td>1700127112000000000</td>\n",
       "      <td>197.8</td>\n",
       "      <td>0.64</td>\n",
       "      <td>424.0</td>\n",
       "      <td>78</td>\n",
       "      <td>0</td>\n",
       "      <td>0</td>\n",
       "      <td>23</td>\n",
       "      <td>7.2</td>\n",
       "    </tr>\n",
       "    <tr>\n",
       "      <th>22969</th>\n",
       "      <td>1700127122000000000</td>\n",
       "      <td>198.8</td>\n",
       "      <td>0.541</td>\n",
       "      <td>466.0</td>\n",
       "      <td>75</td>\n",
       "      <td>0</td>\n",
       "      <td>0</td>\n",
       "      <td>23</td>\n",
       "      <td>7.6</td>\n",
       "    </tr>\n",
       "    <tr>\n",
       "      <th>22970</th>\n",
       "      <td>1700127132000000000</td>\n",
       "      <td>199.9</td>\n",
       "      <td>1.028</td>\n",
       "      <td>524.0</td>\n",
       "      <td>74</td>\n",
       "      <td>0</td>\n",
       "      <td>0</td>\n",
       "      <td>23</td>\n",
       "      <td>7.2</td>\n",
       "    </tr>\n",
       "    <tr>\n",
       "      <th>22971</th>\n",
       "      <td>1700127142000000000</td>\n",
       "      <td>201.9</td>\n",
       "      <td>0.59</td>\n",
       "      <td>485.0</td>\n",
       "      <td>73</td>\n",
       "      <td>0</td>\n",
       "      <td>0</td>\n",
       "      <td>24</td>\n",
       "      <td>7.2</td>\n",
       "    </tr>\n",
       "    <tr>\n",
       "      <th>22972</th>\n",
       "      <td>1700127172000000000</td>\n",
       "      <td>199.8</td>\n",
       "      <td>0.601</td>\n",
       "      <td>427.0</td>\n",
       "      <td>78</td>\n",
       "      <td>0</td>\n",
       "      <td>0</td>\n",
       "      <td>24</td>\n",
       "      <td>6.8</td>\n",
       "    </tr>\n",
       "  </tbody>\n",
       "</table>\n",
       "<p>22973 rows × 9 columns</p>\n",
       "</div>"
      ],
      "text/plain": [
       "                      time IREG_UBUS IREG_IBUS  IREG_SPEED IREG_PWM  \\\n",
       "0      1698940293000000000     201.1      0.99       696.0       62   \n",
       "1      1698940303000000000     198.3     1.485       701.0       64   \n",
       "2      1698940313000000000     204.8     1.321       733.0       61   \n",
       "3      1698940323000000000     198.2      0.46       621.0       63   \n",
       "4      1698940333000000000     198.6     0.247       588.0       64   \n",
       "...                    ...       ...       ...         ...      ...   \n",
       "22968  1700127112000000000     197.8      0.64       424.0       78   \n",
       "22969  1700127122000000000     198.8     0.541       466.0       75   \n",
       "22970  1700127132000000000     199.9     1.028       524.0       74   \n",
       "22971  1700127142000000000     201.9      0.59       485.0       73   \n",
       "22972  1700127172000000000     199.8     0.601       427.0       78   \n",
       "\n",
       "      IREG_CHOPPER_PWM IREG_IGBT_TEMP IREG_MOTOR_TEMP windspeed  \n",
       "0                    0              0              12       5.2  \n",
       "1                    0              0              12       4.4  \n",
       "2                    0              0              13         6  \n",
       "3                    0              0              14       4.8  \n",
       "4                    0              0              14       5.2  \n",
       "...                ...            ...             ...       ...  \n",
       "22968                0              0              23       7.2  \n",
       "22969                0              0              23       7.6  \n",
       "22970                0              0              23       7.2  \n",
       "22971                0              0              24       7.2  \n",
       "22972                0              0              24       6.8  \n",
       "\n",
       "[22973 rows x 9 columns]"
      ]
     },
     "execution_count": 28,
     "metadata": {},
     "output_type": "execute_result"
    }
   ],
   "source": [
    "filtered_data"
   ]
  },
  {
   "cell_type": "code",
   "execution_count": 29,
   "id": "5a434fbe",
   "metadata": {},
   "outputs": [],
   "source": [
    "data=filtered_data.drop(columns=['time', 'IREG_UBUS', 'IREG_IBUS'])"
   ]
  },
  {
   "cell_type": "code",
   "execution_count": 30,
   "id": "c81c4208",
   "metadata": {},
   "outputs": [
    {
     "data": {
      "text/html": [
       "<div>\n",
       "<style scoped>\n",
       "    .dataframe tbody tr th:only-of-type {\n",
       "        vertical-align: middle;\n",
       "    }\n",
       "\n",
       "    .dataframe tbody tr th {\n",
       "        vertical-align: top;\n",
       "    }\n",
       "\n",
       "    .dataframe thead th {\n",
       "        text-align: right;\n",
       "    }\n",
       "</style>\n",
       "<table border=\"1\" class=\"dataframe\">\n",
       "  <thead>\n",
       "    <tr style=\"text-align: right;\">\n",
       "      <th></th>\n",
       "      <th>IREG_SPEED</th>\n",
       "      <th>IREG_PWM</th>\n",
       "      <th>IREG_CHOPPER_PWM</th>\n",
       "      <th>IREG_IGBT_TEMP</th>\n",
       "      <th>IREG_MOTOR_TEMP</th>\n",
       "      <th>windspeed</th>\n",
       "    </tr>\n",
       "  </thead>\n",
       "  <tbody>\n",
       "    <tr>\n",
       "      <th>0</th>\n",
       "      <td>696.0</td>\n",
       "      <td>62</td>\n",
       "      <td>0</td>\n",
       "      <td>0</td>\n",
       "      <td>12</td>\n",
       "      <td>5.2</td>\n",
       "    </tr>\n",
       "    <tr>\n",
       "      <th>1</th>\n",
       "      <td>701.0</td>\n",
       "      <td>64</td>\n",
       "      <td>0</td>\n",
       "      <td>0</td>\n",
       "      <td>12</td>\n",
       "      <td>4.4</td>\n",
       "    </tr>\n",
       "    <tr>\n",
       "      <th>2</th>\n",
       "      <td>733.0</td>\n",
       "      <td>61</td>\n",
       "      <td>0</td>\n",
       "      <td>0</td>\n",
       "      <td>13</td>\n",
       "      <td>6</td>\n",
       "    </tr>\n",
       "    <tr>\n",
       "      <th>3</th>\n",
       "      <td>621.0</td>\n",
       "      <td>63</td>\n",
       "      <td>0</td>\n",
       "      <td>0</td>\n",
       "      <td>14</td>\n",
       "      <td>4.8</td>\n",
       "    </tr>\n",
       "    <tr>\n",
       "      <th>4</th>\n",
       "      <td>588.0</td>\n",
       "      <td>64</td>\n",
       "      <td>0</td>\n",
       "      <td>0</td>\n",
       "      <td>14</td>\n",
       "      <td>5.2</td>\n",
       "    </tr>\n",
       "    <tr>\n",
       "      <th>...</th>\n",
       "      <td>...</td>\n",
       "      <td>...</td>\n",
       "      <td>...</td>\n",
       "      <td>...</td>\n",
       "      <td>...</td>\n",
       "      <td>...</td>\n",
       "    </tr>\n",
       "    <tr>\n",
       "      <th>22968</th>\n",
       "      <td>424.0</td>\n",
       "      <td>78</td>\n",
       "      <td>0</td>\n",
       "      <td>0</td>\n",
       "      <td>23</td>\n",
       "      <td>7.2</td>\n",
       "    </tr>\n",
       "    <tr>\n",
       "      <th>22969</th>\n",
       "      <td>466.0</td>\n",
       "      <td>75</td>\n",
       "      <td>0</td>\n",
       "      <td>0</td>\n",
       "      <td>23</td>\n",
       "      <td>7.6</td>\n",
       "    </tr>\n",
       "    <tr>\n",
       "      <th>22970</th>\n",
       "      <td>524.0</td>\n",
       "      <td>74</td>\n",
       "      <td>0</td>\n",
       "      <td>0</td>\n",
       "      <td>23</td>\n",
       "      <td>7.2</td>\n",
       "    </tr>\n",
       "    <tr>\n",
       "      <th>22971</th>\n",
       "      <td>485.0</td>\n",
       "      <td>73</td>\n",
       "      <td>0</td>\n",
       "      <td>0</td>\n",
       "      <td>24</td>\n",
       "      <td>7.2</td>\n",
       "    </tr>\n",
       "    <tr>\n",
       "      <th>22972</th>\n",
       "      <td>427.0</td>\n",
       "      <td>78</td>\n",
       "      <td>0</td>\n",
       "      <td>0</td>\n",
       "      <td>24</td>\n",
       "      <td>6.8</td>\n",
       "    </tr>\n",
       "  </tbody>\n",
       "</table>\n",
       "<p>22973 rows × 6 columns</p>\n",
       "</div>"
      ],
      "text/plain": [
       "       IREG_SPEED IREG_PWM IREG_CHOPPER_PWM IREG_IGBT_TEMP IREG_MOTOR_TEMP  \\\n",
       "0           696.0       62                0              0              12   \n",
       "1           701.0       64                0              0              12   \n",
       "2           733.0       61                0              0              13   \n",
       "3           621.0       63                0              0              14   \n",
       "4           588.0       64                0              0              14   \n",
       "...           ...      ...              ...            ...             ...   \n",
       "22968       424.0       78                0              0              23   \n",
       "22969       466.0       75                0              0              23   \n",
       "22970       524.0       74                0              0              23   \n",
       "22971       485.0       73                0              0              24   \n",
       "22972       427.0       78                0              0              24   \n",
       "\n",
       "      windspeed  \n",
       "0           5.2  \n",
       "1           4.4  \n",
       "2             6  \n",
       "3           4.8  \n",
       "4           5.2  \n",
       "...         ...  \n",
       "22968       7.2  \n",
       "22969       7.6  \n",
       "22970       7.2  \n",
       "22971       7.2  \n",
       "22972       6.8  \n",
       "\n",
       "[22973 rows x 6 columns]"
      ]
     },
     "execution_count": 30,
     "metadata": {},
     "output_type": "execute_result"
    }
   ],
   "source": [
    "data"
   ]
  },
  {
   "cell_type": "code",
   "execution_count": 31,
   "id": "d89e7904",
   "metadata": {},
   "outputs": [
    {
     "data": {
      "text/plain": [
       "array(['62', '64', '61', '63', '68', '60', '66', '67', '65', '58', '59',\n",
       "       '69', '73', '75', '80', '76', '74', '77', '72', '79', '78', '83',\n",
       "       '82', '71', '70', '57', '81', '56', '54', '55', '85', '52', '84',\n",
       "       '53', '87', '86', '0', '51', '28', '36'], dtype=object)"
      ]
     },
     "execution_count": 31,
     "metadata": {},
     "output_type": "execute_result"
    }
   ],
   "source": [
    "data['IREG_PWM'].unique() # can be a factor for mapping"
   ]
  },
  {
   "cell_type": "code",
   "execution_count": 32,
   "id": "3214aac8",
   "metadata": {},
   "outputs": [
    {
     "data": {
      "text/plain": [
       "array(['0', '2', '3', '12', '10', '11', '1', '7', '8'], dtype=object)"
      ]
     },
     "execution_count": 32,
     "metadata": {},
     "output_type": "execute_result"
    }
   ],
   "source": [
    "data['IREG_CHOPPER_PWM'].unique() # can be a factor for mapping"
   ]
  },
  {
   "cell_type": "code",
   "execution_count": 33,
   "id": "a55608fd",
   "metadata": {},
   "outputs": [
    {
     "data": {
      "text/plain": [
       "array(['0', '65535'], dtype=object)"
      ]
     },
     "execution_count": 33,
     "metadata": {},
     "output_type": "execute_result"
    }
   ],
   "source": [
    "data['IREG_IGBT_TEMP'].unique() # can be a factor for mapping"
   ]
  },
  {
   "cell_type": "code",
   "execution_count": 34,
   "id": "c5b5c1e8",
   "metadata": {},
   "outputs": [
    {
     "data": {
      "text/plain": [
       "array(['12', '13', '14', '16', '17', '18', '19', '20', '21', '22', '23',\n",
       "       '24', '25', '26', '27', '28', '29', '30', '31', '32', '33', '34',\n",
       "       '35', '36', '10', '11', '15', '8', '37', '38', '39', '40', '41',\n",
       "       '42', '43', '44', '45', '46', '47', '48', '49', '50', '52', '51',\n",
       "       '9', '7'], dtype=object)"
      ]
     },
     "execution_count": 34,
     "metadata": {},
     "output_type": "execute_result"
    }
   ],
   "source": [
    "data['IREG_MOTOR_TEMP'].unique() # can be a factor for mapping"
   ]
  },
  {
   "cell_type": "markdown",
   "id": "5e4be043",
   "metadata": {},
   "source": [
    "## Normalizing the Data"
   ]
  },
  {
   "cell_type": "code",
   "execution_count": 35,
   "id": "61022716",
   "metadata": {},
   "outputs": [],
   "source": [
    "from sklearn.preprocessing import MinMaxScaler\n",
    "data_scaler = MinMaxScaler()\n",
    "data_scaled = data_scaler.fit_transform(data)\n",
    "data_scaled = pd.DataFrame(data_scaled, columns=data.columns)"
   ]
  },
  {
   "cell_type": "code",
   "execution_count": 36,
   "id": "51c68d27",
   "metadata": {},
   "outputs": [
    {
     "data": {
      "text/html": [
       "<div>\n",
       "<style scoped>\n",
       "    .dataframe tbody tr th:only-of-type {\n",
       "        vertical-align: middle;\n",
       "    }\n",
       "\n",
       "    .dataframe tbody tr th {\n",
       "        vertical-align: top;\n",
       "    }\n",
       "\n",
       "    .dataframe thead th {\n",
       "        text-align: right;\n",
       "    }\n",
       "</style>\n",
       "<table border=\"1\" class=\"dataframe\">\n",
       "  <thead>\n",
       "    <tr style=\"text-align: right;\">\n",
       "      <th></th>\n",
       "      <th>IREG_SPEED</th>\n",
       "      <th>IREG_PWM</th>\n",
       "      <th>IREG_CHOPPER_PWM</th>\n",
       "      <th>IREG_IGBT_TEMP</th>\n",
       "      <th>IREG_MOTOR_TEMP</th>\n",
       "      <th>windspeed</th>\n",
       "    </tr>\n",
       "  </thead>\n",
       "  <tbody>\n",
       "    <tr>\n",
       "      <th>0</th>\n",
       "      <td>696.0</td>\n",
       "      <td>62</td>\n",
       "      <td>0</td>\n",
       "      <td>0</td>\n",
       "      <td>12</td>\n",
       "      <td>5.2</td>\n",
       "    </tr>\n",
       "    <tr>\n",
       "      <th>1</th>\n",
       "      <td>701.0</td>\n",
       "      <td>64</td>\n",
       "      <td>0</td>\n",
       "      <td>0</td>\n",
       "      <td>12</td>\n",
       "      <td>4.4</td>\n",
       "    </tr>\n",
       "    <tr>\n",
       "      <th>2</th>\n",
       "      <td>733.0</td>\n",
       "      <td>61</td>\n",
       "      <td>0</td>\n",
       "      <td>0</td>\n",
       "      <td>13</td>\n",
       "      <td>6</td>\n",
       "    </tr>\n",
       "    <tr>\n",
       "      <th>3</th>\n",
       "      <td>621.0</td>\n",
       "      <td>63</td>\n",
       "      <td>0</td>\n",
       "      <td>0</td>\n",
       "      <td>14</td>\n",
       "      <td>4.8</td>\n",
       "    </tr>\n",
       "    <tr>\n",
       "      <th>4</th>\n",
       "      <td>588.0</td>\n",
       "      <td>64</td>\n",
       "      <td>0</td>\n",
       "      <td>0</td>\n",
       "      <td>14</td>\n",
       "      <td>5.2</td>\n",
       "    </tr>\n",
       "    <tr>\n",
       "      <th>...</th>\n",
       "      <td>...</td>\n",
       "      <td>...</td>\n",
       "      <td>...</td>\n",
       "      <td>...</td>\n",
       "      <td>...</td>\n",
       "      <td>...</td>\n",
       "    </tr>\n",
       "    <tr>\n",
       "      <th>22968</th>\n",
       "      <td>424.0</td>\n",
       "      <td>78</td>\n",
       "      <td>0</td>\n",
       "      <td>0</td>\n",
       "      <td>23</td>\n",
       "      <td>7.2</td>\n",
       "    </tr>\n",
       "    <tr>\n",
       "      <th>22969</th>\n",
       "      <td>466.0</td>\n",
       "      <td>75</td>\n",
       "      <td>0</td>\n",
       "      <td>0</td>\n",
       "      <td>23</td>\n",
       "      <td>7.6</td>\n",
       "    </tr>\n",
       "    <tr>\n",
       "      <th>22970</th>\n",
       "      <td>524.0</td>\n",
       "      <td>74</td>\n",
       "      <td>0</td>\n",
       "      <td>0</td>\n",
       "      <td>23</td>\n",
       "      <td>7.2</td>\n",
       "    </tr>\n",
       "    <tr>\n",
       "      <th>22971</th>\n",
       "      <td>485.0</td>\n",
       "      <td>73</td>\n",
       "      <td>0</td>\n",
       "      <td>0</td>\n",
       "      <td>24</td>\n",
       "      <td>7.2</td>\n",
       "    </tr>\n",
       "    <tr>\n",
       "      <th>22972</th>\n",
       "      <td>427.0</td>\n",
       "      <td>78</td>\n",
       "      <td>0</td>\n",
       "      <td>0</td>\n",
       "      <td>24</td>\n",
       "      <td>6.8</td>\n",
       "    </tr>\n",
       "  </tbody>\n",
       "</table>\n",
       "<p>22973 rows × 6 columns</p>\n",
       "</div>"
      ],
      "text/plain": [
       "       IREG_SPEED IREG_PWM IREG_CHOPPER_PWM IREG_IGBT_TEMP IREG_MOTOR_TEMP  \\\n",
       "0           696.0       62                0              0              12   \n",
       "1           701.0       64                0              0              12   \n",
       "2           733.0       61                0              0              13   \n",
       "3           621.0       63                0              0              14   \n",
       "4           588.0       64                0              0              14   \n",
       "...           ...      ...              ...            ...             ...   \n",
       "22968       424.0       78                0              0              23   \n",
       "22969       466.0       75                0              0              23   \n",
       "22970       524.0       74                0              0              23   \n",
       "22971       485.0       73                0              0              24   \n",
       "22972       427.0       78                0              0              24   \n",
       "\n",
       "      windspeed  \n",
       "0           5.2  \n",
       "1           4.4  \n",
       "2             6  \n",
       "3           4.8  \n",
       "4           5.2  \n",
       "...         ...  \n",
       "22968       7.2  \n",
       "22969       7.6  \n",
       "22970       7.2  \n",
       "22971       7.2  \n",
       "22972       6.8  \n",
       "\n",
       "[22973 rows x 6 columns]"
      ]
     },
     "execution_count": 36,
     "metadata": {},
     "output_type": "execute_result"
    }
   ],
   "source": [
    "data"
   ]
  },
  {
   "cell_type": "code",
   "execution_count": 37,
   "id": "d316b207",
   "metadata": {},
   "outputs": [
    {
     "data": {
      "text/html": [
       "<div>\n",
       "<style scoped>\n",
       "    .dataframe tbody tr th:only-of-type {\n",
       "        vertical-align: middle;\n",
       "    }\n",
       "\n",
       "    .dataframe tbody tr th {\n",
       "        vertical-align: top;\n",
       "    }\n",
       "\n",
       "    .dataframe thead th {\n",
       "        text-align: right;\n",
       "    }\n",
       "</style>\n",
       "<table border=\"1\" class=\"dataframe\">\n",
       "  <thead>\n",
       "    <tr style=\"text-align: right;\">\n",
       "      <th></th>\n",
       "      <th>IREG_SPEED</th>\n",
       "      <th>IREG_PWM</th>\n",
       "      <th>IREG_CHOPPER_PWM</th>\n",
       "      <th>IREG_IGBT_TEMP</th>\n",
       "      <th>IREG_MOTOR_TEMP</th>\n",
       "      <th>windspeed</th>\n",
       "    </tr>\n",
       "  </thead>\n",
       "  <tbody>\n",
       "    <tr>\n",
       "      <th>0</th>\n",
       "      <td>0.845714</td>\n",
       "      <td>0.712644</td>\n",
       "      <td>0.0</td>\n",
       "      <td>0.0</td>\n",
       "      <td>0.111111</td>\n",
       "      <td>0.342105</td>\n",
       "    </tr>\n",
       "    <tr>\n",
       "      <th>1</th>\n",
       "      <td>0.860000</td>\n",
       "      <td>0.735632</td>\n",
       "      <td>0.0</td>\n",
       "      <td>0.0</td>\n",
       "      <td>0.111111</td>\n",
       "      <td>0.289474</td>\n",
       "    </tr>\n",
       "    <tr>\n",
       "      <th>2</th>\n",
       "      <td>0.951429</td>\n",
       "      <td>0.701149</td>\n",
       "      <td>0.0</td>\n",
       "      <td>0.0</td>\n",
       "      <td>0.133333</td>\n",
       "      <td>0.394737</td>\n",
       "    </tr>\n",
       "    <tr>\n",
       "      <th>3</th>\n",
       "      <td>0.631429</td>\n",
       "      <td>0.724138</td>\n",
       "      <td>0.0</td>\n",
       "      <td>0.0</td>\n",
       "      <td>0.155556</td>\n",
       "      <td>0.315789</td>\n",
       "    </tr>\n",
       "    <tr>\n",
       "      <th>4</th>\n",
       "      <td>0.537143</td>\n",
       "      <td>0.735632</td>\n",
       "      <td>0.0</td>\n",
       "      <td>0.0</td>\n",
       "      <td>0.155556</td>\n",
       "      <td>0.342105</td>\n",
       "    </tr>\n",
       "    <tr>\n",
       "      <th>...</th>\n",
       "      <td>...</td>\n",
       "      <td>...</td>\n",
       "      <td>...</td>\n",
       "      <td>...</td>\n",
       "      <td>...</td>\n",
       "      <td>...</td>\n",
       "    </tr>\n",
       "    <tr>\n",
       "      <th>22968</th>\n",
       "      <td>0.068571</td>\n",
       "      <td>0.896552</td>\n",
       "      <td>0.0</td>\n",
       "      <td>0.0</td>\n",
       "      <td>0.355556</td>\n",
       "      <td>0.473684</td>\n",
       "    </tr>\n",
       "    <tr>\n",
       "      <th>22969</th>\n",
       "      <td>0.188571</td>\n",
       "      <td>0.862069</td>\n",
       "      <td>0.0</td>\n",
       "      <td>0.0</td>\n",
       "      <td>0.355556</td>\n",
       "      <td>0.500000</td>\n",
       "    </tr>\n",
       "    <tr>\n",
       "      <th>22970</th>\n",
       "      <td>0.354286</td>\n",
       "      <td>0.850575</td>\n",
       "      <td>0.0</td>\n",
       "      <td>0.0</td>\n",
       "      <td>0.355556</td>\n",
       "      <td>0.473684</td>\n",
       "    </tr>\n",
       "    <tr>\n",
       "      <th>22971</th>\n",
       "      <td>0.242857</td>\n",
       "      <td>0.839080</td>\n",
       "      <td>0.0</td>\n",
       "      <td>0.0</td>\n",
       "      <td>0.377778</td>\n",
       "      <td>0.473684</td>\n",
       "    </tr>\n",
       "    <tr>\n",
       "      <th>22972</th>\n",
       "      <td>0.077143</td>\n",
       "      <td>0.896552</td>\n",
       "      <td>0.0</td>\n",
       "      <td>0.0</td>\n",
       "      <td>0.377778</td>\n",
       "      <td>0.447368</td>\n",
       "    </tr>\n",
       "  </tbody>\n",
       "</table>\n",
       "<p>22973 rows × 6 columns</p>\n",
       "</div>"
      ],
      "text/plain": [
       "       IREG_SPEED  IREG_PWM  IREG_CHOPPER_PWM  IREG_IGBT_TEMP  \\\n",
       "0        0.845714  0.712644               0.0             0.0   \n",
       "1        0.860000  0.735632               0.0             0.0   \n",
       "2        0.951429  0.701149               0.0             0.0   \n",
       "3        0.631429  0.724138               0.0             0.0   \n",
       "4        0.537143  0.735632               0.0             0.0   \n",
       "...           ...       ...               ...             ...   \n",
       "22968    0.068571  0.896552               0.0             0.0   \n",
       "22969    0.188571  0.862069               0.0             0.0   \n",
       "22970    0.354286  0.850575               0.0             0.0   \n",
       "22971    0.242857  0.839080               0.0             0.0   \n",
       "22972    0.077143  0.896552               0.0             0.0   \n",
       "\n",
       "       IREG_MOTOR_TEMP  windspeed  \n",
       "0             0.111111   0.342105  \n",
       "1             0.111111   0.289474  \n",
       "2             0.133333   0.394737  \n",
       "3             0.155556   0.315789  \n",
       "4             0.155556   0.342105  \n",
       "...                ...        ...  \n",
       "22968         0.355556   0.473684  \n",
       "22969         0.355556   0.500000  \n",
       "22970         0.355556   0.473684  \n",
       "22971         0.377778   0.473684  \n",
       "22972         0.377778   0.447368  \n",
       "\n",
       "[22973 rows x 6 columns]"
      ]
     },
     "execution_count": 37,
     "metadata": {},
     "output_type": "execute_result"
    }
   ],
   "source": [
    "data_scaled"
   ]
  },
  {
   "cell_type": "markdown",
   "id": "5e632840",
   "metadata": {},
   "source": [
    "## Splitting the data into label and features"
   ]
  },
  {
   "cell_type": "code",
   "execution_count": 38,
   "id": "e446ad4b",
   "metadata": {},
   "outputs": [],
   "source": [
    "y = data_scaled['IREG_SPEED']"
   ]
  },
  {
   "cell_type": "code",
   "execution_count": 39,
   "id": "b77b5235",
   "metadata": {},
   "outputs": [
    {
     "data": {
      "text/plain": [
       "0        0.845714\n",
       "1        0.860000\n",
       "2        0.951429\n",
       "3        0.631429\n",
       "4        0.537143\n",
       "           ...   \n",
       "22968    0.068571\n",
       "22969    0.188571\n",
       "22970    0.354286\n",
       "22971    0.242857\n",
       "22972    0.077143\n",
       "Name: IREG_SPEED, Length: 22973, dtype: float64"
      ]
     },
     "execution_count": 39,
     "metadata": {},
     "output_type": "execute_result"
    }
   ],
   "source": [
    "y"
   ]
  },
  {
   "cell_type": "code",
   "execution_count": 40,
   "id": "2bdd42d3",
   "metadata": {},
   "outputs": [],
   "source": [
    "X = data_scaled.drop(columns=['IREG_SPEED'])"
   ]
  },
  {
   "cell_type": "code",
   "execution_count": 41,
   "id": "0c8f784b",
   "metadata": {},
   "outputs": [
    {
     "data": {
      "text/html": [
       "<div>\n",
       "<style scoped>\n",
       "    .dataframe tbody tr th:only-of-type {\n",
       "        vertical-align: middle;\n",
       "    }\n",
       "\n",
       "    .dataframe tbody tr th {\n",
       "        vertical-align: top;\n",
       "    }\n",
       "\n",
       "    .dataframe thead th {\n",
       "        text-align: right;\n",
       "    }\n",
       "</style>\n",
       "<table border=\"1\" class=\"dataframe\">\n",
       "  <thead>\n",
       "    <tr style=\"text-align: right;\">\n",
       "      <th></th>\n",
       "      <th>IREG_PWM</th>\n",
       "      <th>IREG_CHOPPER_PWM</th>\n",
       "      <th>IREG_IGBT_TEMP</th>\n",
       "      <th>IREG_MOTOR_TEMP</th>\n",
       "      <th>windspeed</th>\n",
       "    </tr>\n",
       "  </thead>\n",
       "  <tbody>\n",
       "    <tr>\n",
       "      <th>0</th>\n",
       "      <td>0.712644</td>\n",
       "      <td>0.0</td>\n",
       "      <td>0.0</td>\n",
       "      <td>0.111111</td>\n",
       "      <td>0.342105</td>\n",
       "    </tr>\n",
       "    <tr>\n",
       "      <th>1</th>\n",
       "      <td>0.735632</td>\n",
       "      <td>0.0</td>\n",
       "      <td>0.0</td>\n",
       "      <td>0.111111</td>\n",
       "      <td>0.289474</td>\n",
       "    </tr>\n",
       "    <tr>\n",
       "      <th>2</th>\n",
       "      <td>0.701149</td>\n",
       "      <td>0.0</td>\n",
       "      <td>0.0</td>\n",
       "      <td>0.133333</td>\n",
       "      <td>0.394737</td>\n",
       "    </tr>\n",
       "    <tr>\n",
       "      <th>3</th>\n",
       "      <td>0.724138</td>\n",
       "      <td>0.0</td>\n",
       "      <td>0.0</td>\n",
       "      <td>0.155556</td>\n",
       "      <td>0.315789</td>\n",
       "    </tr>\n",
       "    <tr>\n",
       "      <th>4</th>\n",
       "      <td>0.735632</td>\n",
       "      <td>0.0</td>\n",
       "      <td>0.0</td>\n",
       "      <td>0.155556</td>\n",
       "      <td>0.342105</td>\n",
       "    </tr>\n",
       "    <tr>\n",
       "      <th>...</th>\n",
       "      <td>...</td>\n",
       "      <td>...</td>\n",
       "      <td>...</td>\n",
       "      <td>...</td>\n",
       "      <td>...</td>\n",
       "    </tr>\n",
       "    <tr>\n",
       "      <th>22968</th>\n",
       "      <td>0.896552</td>\n",
       "      <td>0.0</td>\n",
       "      <td>0.0</td>\n",
       "      <td>0.355556</td>\n",
       "      <td>0.473684</td>\n",
       "    </tr>\n",
       "    <tr>\n",
       "      <th>22969</th>\n",
       "      <td>0.862069</td>\n",
       "      <td>0.0</td>\n",
       "      <td>0.0</td>\n",
       "      <td>0.355556</td>\n",
       "      <td>0.500000</td>\n",
       "    </tr>\n",
       "    <tr>\n",
       "      <th>22970</th>\n",
       "      <td>0.850575</td>\n",
       "      <td>0.0</td>\n",
       "      <td>0.0</td>\n",
       "      <td>0.355556</td>\n",
       "      <td>0.473684</td>\n",
       "    </tr>\n",
       "    <tr>\n",
       "      <th>22971</th>\n",
       "      <td>0.839080</td>\n",
       "      <td>0.0</td>\n",
       "      <td>0.0</td>\n",
       "      <td>0.377778</td>\n",
       "      <td>0.473684</td>\n",
       "    </tr>\n",
       "    <tr>\n",
       "      <th>22972</th>\n",
       "      <td>0.896552</td>\n",
       "      <td>0.0</td>\n",
       "      <td>0.0</td>\n",
       "      <td>0.377778</td>\n",
       "      <td>0.447368</td>\n",
       "    </tr>\n",
       "  </tbody>\n",
       "</table>\n",
       "<p>22973 rows × 5 columns</p>\n",
       "</div>"
      ],
      "text/plain": [
       "       IREG_PWM  IREG_CHOPPER_PWM  IREG_IGBT_TEMP  IREG_MOTOR_TEMP  windspeed\n",
       "0      0.712644               0.0             0.0         0.111111   0.342105\n",
       "1      0.735632               0.0             0.0         0.111111   0.289474\n",
       "2      0.701149               0.0             0.0         0.133333   0.394737\n",
       "3      0.724138               0.0             0.0         0.155556   0.315789\n",
       "4      0.735632               0.0             0.0         0.155556   0.342105\n",
       "...         ...               ...             ...              ...        ...\n",
       "22968  0.896552               0.0             0.0         0.355556   0.473684\n",
       "22969  0.862069               0.0             0.0         0.355556   0.500000\n",
       "22970  0.850575               0.0             0.0         0.355556   0.473684\n",
       "22971  0.839080               0.0             0.0         0.377778   0.473684\n",
       "22972  0.896552               0.0             0.0         0.377778   0.447368\n",
       "\n",
       "[22973 rows x 5 columns]"
      ]
     },
     "execution_count": 41,
     "metadata": {},
     "output_type": "execute_result"
    }
   ],
   "source": [
    "X"
   ]
  },
  {
   "cell_type": "code",
   "execution_count": 42,
   "id": "57bec8f5",
   "metadata": {},
   "outputs": [],
   "source": [
    "X['IREG_PWM'] = pd.to_numeric(X['IREG_PWM'], errors='coerce')\n",
    "X['IREG_CHOPPER_PWM'] = pd.to_numeric(X['IREG_CHOPPER_PWM'], errors='coerce')\n",
    "X['IREG_IGBT_TEMP'] = pd.to_numeric(X['IREG_IGBT_TEMP'], errors='coerce')\n",
    "X['IREG_MOTOR_TEMP'] = pd.to_numeric(X['IREG_MOTOR_TEMP'], errors='coerce')\n",
    "X['windspeed'] = pd.to_numeric(X['windspeed'], errors='coerce')"
   ]
  },
  {
   "cell_type": "code",
   "execution_count": 43,
   "id": "6852ceda",
   "metadata": {},
   "outputs": [],
   "source": [
    "# X.to_csv('X.csv', index=False)"
   ]
  },
  {
   "cell_type": "code",
   "execution_count": 44,
   "id": "13982644",
   "metadata": {},
   "outputs": [],
   "source": [
    "# y.to_csv('y.csv', index=False)"
   ]
  },
  {
   "cell_type": "markdown",
   "id": "2280338d",
   "metadata": {},
   "source": [
    "## Feature Engineering"
   ]
  },
  {
   "cell_type": "code",
   "execution_count": 45,
   "id": "d93a3325",
   "metadata": {},
   "outputs": [],
   "source": [
    "from sklearn.preprocessing import PolynomialFeatures\n",
    "poly = PolynomialFeatures(degree=2)\n",
    "X_poly = poly.fit_transform(X)"
   ]
  },
  {
   "cell_type": "markdown",
   "id": "5ad0375d",
   "metadata": {},
   "source": [
    "## Train-Test Split"
   ]
  },
  {
   "cell_type": "code",
   "execution_count": 46,
   "id": "990a6a51",
   "metadata": {},
   "outputs": [],
   "source": [
    "from sklearn.model_selection import train_test_split"
   ]
  },
  {
   "cell_type": "code",
   "execution_count": 47,
   "id": "3d00774b",
   "metadata": {},
   "outputs": [],
   "source": [
    "train_X, val_X, train_y, val_y = train_test_split(X_poly, y, test_size=0.1, random_state=42)"
   ]
  },
  {
   "cell_type": "markdown",
   "id": "446d36bc",
   "metadata": {},
   "source": [
    "## Using Random Forest Regressor"
   ]
  },
  {
   "cell_type": "code",
   "execution_count": 48,
   "id": "3144ece4",
   "metadata": {},
   "outputs": [],
   "source": [
    "# from sklearn.ensemble import RandomForestRegressor"
   ]
  },
  {
   "cell_type": "code",
   "execution_count": 49,
   "id": "167b7951",
   "metadata": {},
   "outputs": [],
   "source": [
    "# model1=RandomForestRegressor(n_estimators=100, random_state=42)\n",
    "# model1.fit(train_X, train_y)"
   ]
  },
  {
   "cell_type": "code",
   "execution_count": 50,
   "id": "34a84990",
   "metadata": {},
   "outputs": [],
   "source": [
    "# preds1 = model1.predict(val_X)"
   ]
  },
  {
   "cell_type": "code",
   "execution_count": 58,
   "id": "905bfa06",
   "metadata": {},
   "outputs": [],
   "source": [
    "from sklearn.metrics import mean_absolute_error, mean_squared_error, r2_score"
   ]
  },
  {
   "cell_type": "code",
   "execution_count": 52,
   "id": "19d5f96a",
   "metadata": {},
   "outputs": [],
   "source": [
    "# print(\"MAE: \", mean_absolute_error(val_y, preds1))\n",
    "# print(\"RMSE: \",np.sqrt(mean_squared_error(val_y, preds1)))\n",
    "# print(\"R2 Score: \", r2_score(val_y, preds1))"
   ]
  },
  {
   "cell_type": "markdown",
   "id": "875dc859",
   "metadata": {},
   "source": [
    "## Using Neural Networks"
   ]
  },
  {
   "cell_type": "code",
   "execution_count": 60,
   "id": "55ceb137",
   "metadata": {},
   "outputs": [],
   "source": [
    "from sklearn.neural_network import MLPRegressor"
   ]
  },
  {
   "cell_type": "code",
   "execution_count": 61,
   "id": "a3681b88",
   "metadata": {},
   "outputs": [],
   "source": [
    "NN_model = MLPRegressor(hidden_layer_sizes=(64, 128, 64), max_iter=500, learning_rate='invscaling', verbose=True, )"
   ]
  },
  {
   "cell_type": "code",
   "execution_count": 62,
   "id": "2e0d90f7",
   "metadata": {},
   "outputs": [
    {
     "name": "stdout",
     "output_type": "stream",
     "text": [
      "Iteration 1, loss = 0.02806789\n",
      "Iteration 2, loss = 0.01319878\n",
      "Iteration 3, loss = 0.01259865\n",
      "Iteration 4, loss = 0.01218340\n",
      "Iteration 5, loss = 0.01183252\n",
      "Iteration 6, loss = 0.01176074\n",
      "Iteration 7, loss = 0.01127224\n",
      "Iteration 8, loss = 0.01108872\n",
      "Iteration 9, loss = 0.01072283\n",
      "Iteration 10, loss = 0.01016063\n",
      "Iteration 11, loss = 0.00992148\n",
      "Iteration 12, loss = 0.00973458\n",
      "Iteration 13, loss = 0.00958167\n",
      "Iteration 14, loss = 0.00927270\n",
      "Iteration 15, loss = 0.00920039\n",
      "Iteration 16, loss = 0.00905753\n",
      "Iteration 17, loss = 0.00916207\n",
      "Iteration 18, loss = 0.00911938\n",
      "Iteration 19, loss = 0.00892605\n",
      "Iteration 20, loss = 0.00877388\n",
      "Iteration 21, loss = 0.00891826\n",
      "Iteration 22, loss = 0.00876591\n",
      "Iteration 23, loss = 0.00864640\n",
      "Iteration 24, loss = 0.00854411\n",
      "Iteration 25, loss = 0.00855948\n",
      "Iteration 26, loss = 0.00850013\n",
      "Iteration 27, loss = 0.00868289\n",
      "Iteration 28, loss = 0.00835746\n",
      "Iteration 29, loss = 0.00844836\n",
      "Iteration 30, loss = 0.00846869\n",
      "Iteration 31, loss = 0.00843595\n",
      "Iteration 32, loss = 0.00839890\n",
      "Iteration 33, loss = 0.00846355\n",
      "Iteration 34, loss = 0.00849089\n",
      "Iteration 35, loss = 0.00842941\n",
      "Iteration 36, loss = 0.00835188\n",
      "Iteration 37, loss = 0.00814230\n",
      "Iteration 38, loss = 0.00829002\n",
      "Iteration 39, loss = 0.00826669\n",
      "Iteration 40, loss = 0.00818988\n",
      "Iteration 41, loss = 0.00825605\n",
      "Iteration 42, loss = 0.00818038\n",
      "Iteration 43, loss = 0.00822540\n",
      "Iteration 44, loss = 0.00827927\n",
      "Iteration 45, loss = 0.00820427\n",
      "Iteration 46, loss = 0.00818830\n",
      "Iteration 47, loss = 0.00802862\n",
      "Iteration 48, loss = 0.00811375\n",
      "Iteration 49, loss = 0.00806104\n",
      "Iteration 50, loss = 0.00825679\n",
      "Iteration 51, loss = 0.00806630\n",
      "Iteration 52, loss = 0.00798600\n",
      "Iteration 53, loss = 0.00830148\n",
      "Iteration 54, loss = 0.00806050\n",
      "Iteration 55, loss = 0.00802991\n",
      "Iteration 56, loss = 0.00802160\n",
      "Iteration 57, loss = 0.00839401\n",
      "Iteration 58, loss = 0.00804489\n",
      "Training loss did not improve more than tol=0.000100 for 10 consecutive epochs. Stopping.\n"
     ]
    },
    {
     "data": {
      "text/html": [
       "<style>#sk-container-id-2 {color: black;background-color: white;}#sk-container-id-2 pre{padding: 0;}#sk-container-id-2 div.sk-toggleable {background-color: white;}#sk-container-id-2 label.sk-toggleable__label {cursor: pointer;display: block;width: 100%;margin-bottom: 0;padding: 0.3em;box-sizing: border-box;text-align: center;}#sk-container-id-2 label.sk-toggleable__label-arrow:before {content: \"▸\";float: left;margin-right: 0.25em;color: #696969;}#sk-container-id-2 label.sk-toggleable__label-arrow:hover:before {color: black;}#sk-container-id-2 div.sk-estimator:hover label.sk-toggleable__label-arrow:before {color: black;}#sk-container-id-2 div.sk-toggleable__content {max-height: 0;max-width: 0;overflow: hidden;text-align: left;background-color: #f0f8ff;}#sk-container-id-2 div.sk-toggleable__content pre {margin: 0.2em;color: black;border-radius: 0.25em;background-color: #f0f8ff;}#sk-container-id-2 input.sk-toggleable__control:checked~div.sk-toggleable__content {max-height: 200px;max-width: 100%;overflow: auto;}#sk-container-id-2 input.sk-toggleable__control:checked~label.sk-toggleable__label-arrow:before {content: \"▾\";}#sk-container-id-2 div.sk-estimator input.sk-toggleable__control:checked~label.sk-toggleable__label {background-color: #d4ebff;}#sk-container-id-2 div.sk-label input.sk-toggleable__control:checked~label.sk-toggleable__label {background-color: #d4ebff;}#sk-container-id-2 input.sk-hidden--visually {border: 0;clip: rect(1px 1px 1px 1px);clip: rect(1px, 1px, 1px, 1px);height: 1px;margin: -1px;overflow: hidden;padding: 0;position: absolute;width: 1px;}#sk-container-id-2 div.sk-estimator {font-family: monospace;background-color: #f0f8ff;border: 1px dotted black;border-radius: 0.25em;box-sizing: border-box;margin-bottom: 0.5em;}#sk-container-id-2 div.sk-estimator:hover {background-color: #d4ebff;}#sk-container-id-2 div.sk-parallel-item::after {content: \"\";width: 100%;border-bottom: 1px solid gray;flex-grow: 1;}#sk-container-id-2 div.sk-label:hover label.sk-toggleable__label {background-color: #d4ebff;}#sk-container-id-2 div.sk-serial::before {content: \"\";position: absolute;border-left: 1px solid gray;box-sizing: border-box;top: 0;bottom: 0;left: 50%;z-index: 0;}#sk-container-id-2 div.sk-serial {display: flex;flex-direction: column;align-items: center;background-color: white;padding-right: 0.2em;padding-left: 0.2em;position: relative;}#sk-container-id-2 div.sk-item {position: relative;z-index: 1;}#sk-container-id-2 div.sk-parallel {display: flex;align-items: stretch;justify-content: center;background-color: white;position: relative;}#sk-container-id-2 div.sk-item::before, #sk-container-id-2 div.sk-parallel-item::before {content: \"\";position: absolute;border-left: 1px solid gray;box-sizing: border-box;top: 0;bottom: 0;left: 50%;z-index: -1;}#sk-container-id-2 div.sk-parallel-item {display: flex;flex-direction: column;z-index: 1;position: relative;background-color: white;}#sk-container-id-2 div.sk-parallel-item:first-child::after {align-self: flex-end;width: 50%;}#sk-container-id-2 div.sk-parallel-item:last-child::after {align-self: flex-start;width: 50%;}#sk-container-id-2 div.sk-parallel-item:only-child::after {width: 0;}#sk-container-id-2 div.sk-dashed-wrapped {border: 1px dashed gray;margin: 0 0.4em 0.5em 0.4em;box-sizing: border-box;padding-bottom: 0.4em;background-color: white;}#sk-container-id-2 div.sk-label label {font-family: monospace;font-weight: bold;display: inline-block;line-height: 1.2em;}#sk-container-id-2 div.sk-label-container {text-align: center;}#sk-container-id-2 div.sk-container {/* jupyter's `normalize.less` sets `[hidden] { display: none; }` but bootstrap.min.css set `[hidden] { display: none !important; }` so we also need the `!important` here to be able to override the default hidden behavior on the sphinx rendered scikit-learn.org. See: https://github.com/scikit-learn/scikit-learn/issues/21755 */display: inline-block !important;position: relative;}#sk-container-id-2 div.sk-text-repr-fallback {display: none;}</style><div id=\"sk-container-id-2\" class=\"sk-top-container\"><div class=\"sk-text-repr-fallback\"><pre>MLPRegressor(hidden_layer_sizes=(64, 128, 64), learning_rate=&#x27;invscaling&#x27;,\n",
       "             max_iter=500, verbose=True)</pre><b>In a Jupyter environment, please rerun this cell to show the HTML representation or trust the notebook. <br />On GitHub, the HTML representation is unable to render, please try loading this page with nbviewer.org.</b></div><div class=\"sk-container\" hidden><div class=\"sk-item\"><div class=\"sk-estimator sk-toggleable\"><input class=\"sk-toggleable__control sk-hidden--visually\" id=\"sk-estimator-id-2\" type=\"checkbox\" checked><label for=\"sk-estimator-id-2\" class=\"sk-toggleable__label sk-toggleable__label-arrow\">MLPRegressor</label><div class=\"sk-toggleable__content\"><pre>MLPRegressor(hidden_layer_sizes=(64, 128, 64), learning_rate=&#x27;invscaling&#x27;,\n",
       "             max_iter=500, verbose=True)</pre></div></div></div></div></div>"
      ],
      "text/plain": [
       "MLPRegressor(hidden_layer_sizes=(64, 128, 64), learning_rate='invscaling',\n",
       "             max_iter=500, verbose=True)"
      ]
     },
     "execution_count": 62,
     "metadata": {},
     "output_type": "execute_result"
    }
   ],
   "source": [
    "NN_model.fit(train_X, train_y.values.ravel())"
   ]
  },
  {
   "cell_type": "code",
   "execution_count": 63,
   "id": "55d229a6",
   "metadata": {},
   "outputs": [],
   "source": [
    "preds6 = NN_model.predict(val_X)"
   ]
  },
  {
   "cell_type": "code",
   "execution_count": 64,
   "id": "9c5961a1",
   "metadata": {},
   "outputs": [
    {
     "name": "stdout",
     "output_type": "stream",
     "text": [
      "MAE:  0.08945106236839087\n",
      "RMSE:  0.1355997787411176\n",
      "R2 Score:  0.6844108771427404\n"
     ]
    }
   ],
   "source": [
    "print(\"MAE: \", mean_absolute_error(val_y, preds6))\n",
    "print(\"RMSE: \",np.sqrt(mean_squared_error(val_y, preds6)))\n",
    "print(\"R2 Score: \", r2_score(val_y, preds6))"
   ]
  },
  {
   "cell_type": "code",
   "execution_count": null,
   "id": "3e173e3f",
   "metadata": {},
   "outputs": [],
   "source": []
  }
 ],
 "metadata": {
  "kernelspec": {
   "display_name": "Python 3 (ipykernel)",
   "language": "python",
   "name": "python3"
  },
  "language_info": {
   "codemirror_mode": {
    "name": "ipython",
    "version": 3
   },
   "file_extension": ".py",
   "mimetype": "text/x-python",
   "name": "python",
   "nbconvert_exporter": "python",
   "pygments_lexer": "ipython3",
   "version": "3.10.5"
  }
 },
 "nbformat": 4,
 "nbformat_minor": 5
}
