{
 "cells": [
  {
   "cell_type": "code",
   "execution_count": 26,
   "id": "7910b9e0",
   "metadata": {},
   "outputs": [],
   "source": [
    "import pandas as pd\n",
    "import numpy as np\n",
    "import matplotlib.pyplot as plt\n",
    "import seaborn as sns\n",
    "from sklearn.preprocessing import StandardScaler\n",
    "import xgboost as xgb\n",
    "from sklearn.model_selection import train_test_split\n",
    "from sklearn.metrics import mean_absolute_error, r2_score, mean_squared_error"
   ]
  },
  {
   "cell_type": "code",
   "execution_count": 27,
   "id": "5180c524",
   "metadata": {},
   "outputs": [],
   "source": [
    "def preprocessing(generator_file_path, anemometer_file_path):\n",
    "    generator_data = pd.read_csv(generator_file_path)\n",
    "    wind_speed_data = pd.read_csv(anemometer_file_path)\n",
    "    \n",
    "    generator_data.drop(columns=['name', 'TURBINEID', 'DEVICETYPE', 'DEVICEID'], inplace=True)\n",
    "    wind_speed_data.drop(columns=['name', 'windspeed_MW'], inplace=True)\n",
    "    \n",
    "    generator_data = generator_data.drop_duplicates(subset='time')\n",
    "    wind_speed_data = wind_speed_data.drop_duplicates(subset='time')\n",
    "    \n",
    "    # Merging both DataFrames based on 'time' column, keeping only the intersection\n",
    "    merged_df = pd.merge(wind_speed_data, generator_data, on='time', how='inner')\n",
    "    \n",
    "    # Filtering MPPT Data\n",
    "    merged_df['IREG_SPEED'] = pd.to_numeric(merged_df['IREG_SPEED'], errors='coerce')\n",
    "    filtered_data = merged_df[(merged_df['IREG_SPEED'] >= 400) & (merged_df['IREG_SPEED'] <= 750)]\n",
    "    \n",
    "    filtered_data.reset_index(drop=True, inplace=True)\n",
    "    data=filtered_data.drop(columns=['time'])\n",
    "    \n",
    "    data['IREG_UBUS'] = pd.to_numeric(data['IREG_UBUS'], errors='coerce')\n",
    "    data['IREG_IBUS'] = pd.to_numeric(data['IREG_IBUS'], errors='coerce')\n",
    "    data['IREG_PWM'] = pd.to_numeric(data['IREG_PWM'], errors='coerce')\n",
    "    data['IREG_CHOPPER_PWM'] = pd.to_numeric(data['IREG_CHOPPER_PWM'], errors='coerce')\n",
    "    data['IREG_IGBT_TEMP'] = pd.to_numeric(data['IREG_IGBT_TEMP'], errors='coerce')\n",
    "    data['IREG_MOTOR_TEMP'] = pd.to_numeric(data['IREG_MOTOR_TEMP'], errors='coerce')\n",
    "    data['windspeed'] = pd.to_numeric(data['windspeed'], errors='coerce')\n",
    "    \n",
    "    X = data.drop(columns=['IREG_CHOPPER_PWM', 'IREG_IGBT_TEMP', 'IREG_MOTOR_TEMP'])\n",
    "    \n",
    "    y = X['IREG_SPEED']\n",
    "    y = pd.DataFrame(y)\n",
    "    X = X.drop(columns=['IREG_SPEED'])\n",
    "    \n",
    "    return X, y\n",
    "\n",
    "def standardScaling(X, y):\n",
    "    X_scaler = StandardScaler()\n",
    "    X_scaler.fit(X)\n",
    "    X_scaled = X_scaler.transform(X)\n",
    "\n",
    "    y_scaler = StandardScaler()\n",
    "    y_scaler.fit(y)\n",
    "    y_scaled = y_scaler.transform(y)\n",
    "    \n",
    "    X_scaled = pd.DataFrame(X_scaled, columns=X.columns)\n",
    "    y_scaled = pd.DataFrame(y_scaled, columns=y.columns)\n",
    "    \n",
    "    return X_scaled, y_scaled, X_scaler, y_scaler\n",
    "\n",
    "def splitting_dataset(X, y, test_size):\n",
    "    train_X, val_X, train_y, val_y = train_test_split(X, y, test_size=test_size, random_state=42)\n",
    "    return train_X, val_X, train_y, val_y\n",
    "\n",
    "def training(train_X, train_y):\n",
    "    xgb_model = xgb.XGBRegressor(objective=\"reg:squarederror\", random_state=42)\n",
    "    xgb_model.fit(train_X, train_y.values.ravel())\n",
    "    return xgb_model"
   ]
  },
  {
   "cell_type": "code",
   "execution_count": 46,
   "id": "773e5cc6",
   "metadata": {},
   "outputs": [],
   "source": [
    "def full_training(generator_data, anemometer_file_path):\n",
    "    X, y = preprocessing(generator_data, anemometer_file_path)\n",
    "    X_scaled, y_scaled, X_scaler, y_scaler = standardScaling(X, y)\n",
    "    train_X, val_X, train_y, val_y = splitting_dataset(X_scaled, y_scaled, 0.4)\n",
    "    model = training(train_X, train_y)\n",
    "    \n",
    "    preds = model.predict(val_X)\n",
    "    preds = pd.DataFrame(preds)\n",
    "    val_y = pd.DataFrame(val_y)\n",
    "    val_y.reset_index(drop=True, inplace=True)\n",
    "    \n",
    "    val_y_unscaled = pd.DataFrame(y_scaler.inverse_transform(val_y))\n",
    "    preds_unscaled = pd.DataFrame(y_scaler.inverse_transform(preds))\n",
    "    \n",
    "    combined_df = pd.concat([val_y_unscaled, preds_unscaled], axis=1)\n",
    "    combined_df.rename(columns={'IREG_SPEED': 'Actual Turbine Speed', 0: 'Predicted Turbine Speed'}, inplace=True)\n",
    "#     print(\"Actual vs Predicted\")\n",
    "#     print(combined_df)\n",
    "#     print(\"\\n\")\n",
    "    print(\"Evaluation Metrics\")\n",
    "    print(\"MAE: \", mean_absolute_error(val_y, preds))\n",
    "    print(\"RMSE: \",np.sqrt(mean_squared_error(val_y, preds)))\n",
    "    print(\"R2 Score: \", r2_score(val_y, preds))\n",
    "    \n",
    "    return model, X_scaler, y_scaler"
   ]
  },
  {
   "cell_type": "code",
   "execution_count": 47,
   "id": "118cc2d9",
   "metadata": {},
   "outputs": [],
   "source": [
    "anemometer_file_path = \"moweapi00080_2023_11_16\\WindgeberHD.csv\""
   ]
  },
  {
   "cell_type": "markdown",
   "id": "3dbfad85",
   "metadata": {},
   "source": [
    "## Generator 1"
   ]
  },
  {
   "cell_type": "code",
   "execution_count": 48,
   "id": "39683919",
   "metadata": {},
   "outputs": [
    {
     "name": "stdout",
     "output_type": "stream",
     "text": [
      "Evaluation Metrics\n",
      "MAE:  0.04944329288960195\n",
      "RMSE:  0.08265456310978701\n",
      "R2 Score:  0.9931783931047864\n"
     ]
    }
   ],
   "source": [
    "generator1 = 'moweapi00080_2023_11_16\\HDGeneratorIREG01.csv'\n",
    "model1, X_scaler1, y_scaler1 = full_training(generator1, anemometer_file_path)"
   ]
  },
  {
   "cell_type": "markdown",
   "id": "9586ac95",
   "metadata": {},
   "source": [
    "## Generator 2"
   ]
  },
  {
   "cell_type": "code",
   "execution_count": 49,
   "id": "da92782f",
   "metadata": {},
   "outputs": [
    {
     "name": "stdout",
     "output_type": "stream",
     "text": [
      "Evaluation Metrics\n",
      "MAE:  0.04570119019134613\n",
      "RMSE:  0.0704726732628834\n",
      "R2 Score:  0.9949168818210984\n"
     ]
    }
   ],
   "source": [
    "generator2 = 'moweapi00080_2023_11_16\\HDGeneratorIREG02.csv'\n",
    "model2, X_scaler2, y_scaler2 = full_training(generator2, anemometer_file_path)"
   ]
  },
  {
   "cell_type": "markdown",
   "id": "0a0590a9",
   "metadata": {},
   "source": [
    "## Generator 3"
   ]
  },
  {
   "cell_type": "code",
   "execution_count": 50,
   "id": "d5e01f41",
   "metadata": {},
   "outputs": [
    {
     "name": "stdout",
     "output_type": "stream",
     "text": [
      "Evaluation Metrics\n",
      "MAE:  0.05408798233818737\n",
      "RMSE:  0.07756228297018383\n",
      "R2 Score:  0.994006810642999\n"
     ]
    }
   ],
   "source": [
    "generator3 = 'moweapi00080_2023_11_16\\HDGeneratorIREG03.csv'\n",
    "model3, X_scaler3, y_scaler3 = full_training(generator3, anemometer_file_path)"
   ]
  },
  {
   "cell_type": "markdown",
   "id": "b40e83a6",
   "metadata": {},
   "source": [
    "## Generator 4"
   ]
  },
  {
   "cell_type": "code",
   "execution_count": 51,
   "id": "34675e91",
   "metadata": {},
   "outputs": [
    {
     "name": "stdout",
     "output_type": "stream",
     "text": [
      "Evaluation Metrics\n",
      "MAE:  0.054768256459593004\n",
      "RMSE:  0.0758204366341659\n",
      "R2 Score:  0.9942807407026413\n"
     ]
    }
   ],
   "source": [
    "generator4 = 'moweapi00080_2023_11_16\\HDGeneratorIREG04.csv'\n",
    "model4, X_scaler4, y_scaler4 = full_training(generator4, anemometer_file_path)"
   ]
  },
  {
   "cell_type": "markdown",
   "id": "df66af06",
   "metadata": {},
   "source": [
    "## Generator 5"
   ]
  },
  {
   "cell_type": "code",
   "execution_count": 52,
   "id": "a7318171",
   "metadata": {},
   "outputs": [
    {
     "name": "stdout",
     "output_type": "stream",
     "text": [
      "Evaluation Metrics\n",
      "MAE:  0.04944329288960195\n",
      "RMSE:  0.08265456310978701\n",
      "R2 Score:  0.9931783931047864\n"
     ]
    }
   ],
   "source": [
    "generator5 = 'moweapi00080_2023_11_16\\HDGeneratorIREG01.csv'\n",
    "model5, X_scaler5, y_scaler5 = full_training(generator5, anemometer_file_path)"
   ]
  },
  {
   "cell_type": "markdown",
   "id": "a56899af",
   "metadata": {},
   "source": [
    "## Generator 6"
   ]
  },
  {
   "cell_type": "code",
   "execution_count": 53,
   "id": "898f1844",
   "metadata": {},
   "outputs": [
    {
     "name": "stdout",
     "output_type": "stream",
     "text": [
      "Evaluation Metrics\n",
      "MAE:  0.04944329288960195\n",
      "RMSE:  0.08265456310978701\n",
      "R2 Score:  0.9931783931047864\n"
     ]
    }
   ],
   "source": [
    "generator6 = 'moweapi00080_2023_11_16\\HDGeneratorIREG01.csv'\n",
    "model6, X_scaler6, y_scaler6 = full_training(generator6, anemometer_file_path)"
   ]
  },
  {
   "cell_type": "markdown",
   "id": "bf6b1ebc",
   "metadata": {},
   "source": [
    "## Generator 7"
   ]
  },
  {
   "cell_type": "code",
   "execution_count": 54,
   "id": "bb86b082",
   "metadata": {},
   "outputs": [
    {
     "name": "stdout",
     "output_type": "stream",
     "text": [
      "Evaluation Metrics\n",
      "MAE:  0.04944329288960195\n",
      "RMSE:  0.08265456310978701\n",
      "R2 Score:  0.9931783931047864\n"
     ]
    }
   ],
   "source": [
    "generator7 = 'moweapi00080_2023_11_16\\HDGeneratorIREG01.csv'\n",
    "model7, X_scaler7, y_scaler7 = full_training(generator7, anemometer_file_path)"
   ]
  },
  {
   "cell_type": "markdown",
   "id": "81ddf8f4",
   "metadata": {},
   "source": [
    "## Generator 8"
   ]
  },
  {
   "cell_type": "code",
   "execution_count": 55,
   "id": "a978af95",
   "metadata": {},
   "outputs": [
    {
     "name": "stdout",
     "output_type": "stream",
     "text": [
      "Evaluation Metrics\n",
      "MAE:  0.04944329288960195\n",
      "RMSE:  0.08265456310978701\n",
      "R2 Score:  0.9931783931047864\n"
     ]
    }
   ],
   "source": [
    "generator8 = 'moweapi00080_2023_11_16\\HDGeneratorIREG01.csv'\n",
    "model8, X_scaler8, y_scaler8 = full_training(generator8, anemometer_file_path)"
   ]
  },
  {
   "cell_type": "markdown",
   "id": "efd586a2",
   "metadata": {},
   "source": [
    "## Generator 9"
   ]
  },
  {
   "cell_type": "code",
   "execution_count": 56,
   "id": "9a1726b8",
   "metadata": {},
   "outputs": [
    {
     "name": "stdout",
     "output_type": "stream",
     "text": [
      "Evaluation Metrics\n",
      "MAE:  0.04527723590985904\n",
      "RMSE:  0.0719335744589181\n",
      "R2 Score:  0.9948728165925834\n"
     ]
    }
   ],
   "source": [
    "generator9 = 'moweapi00080_2023_11_16\\HDGeneratorIREG09.csv'\n",
    "model9, X_scaler9, y_scaler9 = full_training(generator9, anemometer_file_path)"
   ]
  },
  {
   "cell_type": "markdown",
   "id": "cbb108d6",
   "metadata": {},
   "source": [
    "## Generator 10"
   ]
  },
  {
   "cell_type": "code",
   "execution_count": 57,
   "id": "d45a806e",
   "metadata": {},
   "outputs": [
    {
     "name": "stdout",
     "output_type": "stream",
     "text": [
      "Evaluation Metrics\n",
      "MAE:  0.044852974237620795\n",
      "RMSE:  0.06692326231629744\n",
      "R2 Score:  0.9954934458433474\n"
     ]
    }
   ],
   "source": [
    "generator10 = 'moweapi00080_2023_11_16\\HDGeneratorIREG10.csv'\n",
    "model10, X_scaler10, y_scaler10 = full_training(generator10, anemometer_file_path)"
   ]
  },
  {
   "cell_type": "markdown",
   "id": "3aa8328a",
   "metadata": {},
   "source": [
    "## Generator 11"
   ]
  },
  {
   "cell_type": "code",
   "execution_count": 58,
   "id": "cf42cd0e",
   "metadata": {},
   "outputs": [
    {
     "name": "stdout",
     "output_type": "stream",
     "text": [
      "Evaluation Metrics\n",
      "MAE:  0.04944329288960195\n",
      "RMSE:  0.08265456310978701\n",
      "R2 Score:  0.9931783931047864\n"
     ]
    }
   ],
   "source": [
    "generator11 = 'moweapi00080_2023_11_16\\HDGeneratorIREG01.csv'\n",
    "model11, X_scaler11, y_scaler11 = full_training(generator11, anemometer_file_path)"
   ]
  },
  {
   "cell_type": "markdown",
   "id": "59570e87",
   "metadata": {},
   "source": [
    "## Generator 12"
   ]
  },
  {
   "cell_type": "code",
   "execution_count": 59,
   "id": "74ad011a",
   "metadata": {},
   "outputs": [
    {
     "name": "stdout",
     "output_type": "stream",
     "text": [
      "Evaluation Metrics\n",
      "MAE:  0.04312243188939635\n",
      "RMSE:  0.06212077509254867\n",
      "R2 Score:  0.9960861463614747\n"
     ]
    }
   ],
   "source": [
    "generator12 = 'moweapi00080_2023_11_16\\HDGeneratorIREG12.csv'\n",
    "model12, X_scaler12, y_scaler12 = full_training(generator12, anemometer_file_path)"
   ]
  },
  {
   "cell_type": "markdown",
   "id": "9d42c303",
   "metadata": {},
   "source": [
    "## Generator 13"
   ]
  },
  {
   "cell_type": "code",
   "execution_count": 60,
   "id": "abbc5d06",
   "metadata": {},
   "outputs": [
    {
     "name": "stdout",
     "output_type": "stream",
     "text": [
      "Evaluation Metrics\n",
      "MAE:  0.08913554370597797\n",
      "RMSE:  0.17417877060602646\n",
      "R2 Score:  0.970117830211267\n"
     ]
    }
   ],
   "source": [
    "generator13 = 'moweapi00080_2023_11_16\\HDGeneratorIREG13.csv'\n",
    "model13, X_scaler13, y_scaler13 = full_training(generator13, anemometer_file_path)"
   ]
  },
  {
   "cell_type": "markdown",
   "id": "ae5b5a25",
   "metadata": {},
   "source": [
    "## Generator 14"
   ]
  },
  {
   "cell_type": "code",
   "execution_count": 61,
   "id": "7ed74191",
   "metadata": {},
   "outputs": [
    {
     "name": "stdout",
     "output_type": "stream",
     "text": [
      "Evaluation Metrics\n",
      "MAE:  0.10012145768361556\n",
      "RMSE:  0.1873399605950894\n",
      "R2 Score:  0.9646839238268143\n"
     ]
    }
   ],
   "source": [
    "generator14 = 'moweapi00080_2023_11_16\\HDGeneratorIREG14.csv'\n",
    "model14, X_scaler14, y_scaler14 = full_training(generator14, anemometer_file_path)"
   ]
  },
  {
   "cell_type": "markdown",
   "id": "fc1ec6fe",
   "metadata": {},
   "source": [
    "## Generator 15"
   ]
  },
  {
   "cell_type": "code",
   "execution_count": 62,
   "id": "7571750c",
   "metadata": {},
   "outputs": [
    {
     "name": "stdout",
     "output_type": "stream",
     "text": [
      "Evaluation Metrics\n",
      "MAE:  0.06837777202626666\n",
      "RMSE:  0.13655949746096605\n",
      "R2 Score:  0.9816240512561802\n"
     ]
    }
   ],
   "source": [
    "generator15 = 'moweapi00080_2023_11_16\\HDGeneratorIREG15.csv'\n",
    "model15, X_scaler15, y_scaler15 = full_training(generator15, anemometer_file_path)"
   ]
  },
  {
   "cell_type": "markdown",
   "id": "ddd94637",
   "metadata": {},
   "source": [
    "## Generator 16"
   ]
  },
  {
   "cell_type": "code",
   "execution_count": 63,
   "id": "8e48380a",
   "metadata": {},
   "outputs": [
    {
     "name": "stdout",
     "output_type": "stream",
     "text": [
      "Evaluation Metrics\n",
      "MAE:  0.05973248159103547\n",
      "RMSE:  0.1261700629481125\n",
      "R2 Score:  0.9832166447762833\n"
     ]
    }
   ],
   "source": [
    "generator16 = 'moweapi00080_2023_11_16\\HDGeneratorIREG16.csv'\n",
    "model16, X_scaler16, y_scaler16 = full_training(generator16, anemometer_file_path)"
   ]
  }
 ],
 "metadata": {
  "kernelspec": {
   "display_name": "Python 3 (ipykernel)",
   "language": "python",
   "name": "python3"
  },
  "language_info": {
   "codemirror_mode": {
    "name": "ipython",
    "version": 3
   },
   "file_extension": ".py",
   "mimetype": "text/x-python",
   "name": "python",
   "nbconvert_exporter": "python",
   "pygments_lexer": "ipython3",
   "version": "3.10.5"
  }
 },
 "nbformat": 4,
 "nbformat_minor": 5
}
