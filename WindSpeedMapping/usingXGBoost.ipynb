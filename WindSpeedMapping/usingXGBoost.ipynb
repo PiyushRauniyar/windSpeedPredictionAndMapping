{
 "cells": [
  {
   "cell_type": "code",
   "execution_count": 1,
   "id": "a1ce8955",
   "metadata": {},
   "outputs": [],
   "source": [
    "import pandas as pd\n",
    "import numpy as np\n",
    "import matplotlib.pyplot as plt\n",
    "import seaborn as sns\n",
    "from sklearn.preprocessing import StandardScaler\n",
    "from sklearn.metrics import mean_absolute_error, r2_score, mean_squared_error"
   ]
  },
  {
   "cell_type": "code",
   "execution_count": 2,
   "id": "414cd390",
   "metadata": {},
   "outputs": [],
   "source": [
    "file_path1 = 'moweapi00080_2023_11_16\\HDGeneratorIREG01.csv'\n",
    "data1 = pd.read_csv(file_path1)\n",
    "\n",
    "anemometer_file_path = \"moweapi00080_2023_11_16\\WindgeberHD.csv\"\n",
    "wind_speed_data = pd.read_csv(anemometer_file_path)"
   ]
  },
  {
   "cell_type": "code",
   "execution_count": 3,
   "id": "138abc4d",
   "metadata": {},
   "outputs": [
    {
     "data": {
      "text/html": [
       "<div>\n",
       "<style scoped>\n",
       "    .dataframe tbody tr th:only-of-type {\n",
       "        vertical-align: middle;\n",
       "    }\n",
       "\n",
       "    .dataframe tbody tr th {\n",
       "        vertical-align: top;\n",
       "    }\n",
       "\n",
       "    .dataframe thead th {\n",
       "        text-align: right;\n",
       "    }\n",
       "</style>\n",
       "<table border=\"1\" class=\"dataframe\">\n",
       "  <thead>\n",
       "    <tr style=\"text-align: right;\">\n",
       "      <th></th>\n",
       "      <th>name</th>\n",
       "      <th>time</th>\n",
       "      <th>TURBINEID</th>\n",
       "      <th>DEVICETYPE</th>\n",
       "      <th>DEVICEID</th>\n",
       "      <th>IREG_UBUS</th>\n",
       "      <th>IREG_IBUS</th>\n",
       "      <th>IREG_SPEED</th>\n",
       "      <th>IREG_PWM</th>\n",
       "      <th>IREG_CHOPPER_PWM</th>\n",
       "      <th>IREG_IGBT_TEMP</th>\n",
       "      <th>IREG_MOTOR_TEMP</th>\n",
       "    </tr>\n",
       "  </thead>\n",
       "  <tbody>\n",
       "    <tr>\n",
       "      <th>0</th>\n",
       "      <td>GeneratorIREG01</td>\n",
       "      <td>1698939803000000000</td>\n",
       "      <td>01</td>\n",
       "      <td>Generator</td>\n",
       "      <td>x001</td>\n",
       "      <td>0.5</td>\n",
       "      <td>-0.007</td>\n",
       "      <td>0</td>\n",
       "      <td>0</td>\n",
       "      <td>0</td>\n",
       "      <td>0</td>\n",
       "      <td>12</td>\n",
       "    </tr>\n",
       "    <tr>\n",
       "      <th>1</th>\n",
       "      <td>GeneratorIREG01</td>\n",
       "      <td>1698939813000000000</td>\n",
       "      <td>01</td>\n",
       "      <td>Generator</td>\n",
       "      <td>x001</td>\n",
       "      <td>0.3</td>\n",
       "      <td>-0.007</td>\n",
       "      <td>0</td>\n",
       "      <td>0</td>\n",
       "      <td>0</td>\n",
       "      <td>0</td>\n",
       "      <td>12</td>\n",
       "    </tr>\n",
       "    <tr>\n",
       "      <th>2</th>\n",
       "      <td>GeneratorIREG01</td>\n",
       "      <td>1698939823000000000</td>\n",
       "      <td>01</td>\n",
       "      <td>Generator</td>\n",
       "      <td>x001</td>\n",
       "      <td>0.2</td>\n",
       "      <td>-0.007</td>\n",
       "      <td>0</td>\n",
       "      <td>0</td>\n",
       "      <td>0</td>\n",
       "      <td>0</td>\n",
       "      <td>12</td>\n",
       "    </tr>\n",
       "    <tr>\n",
       "      <th>3</th>\n",
       "      <td>GeneratorIREG01</td>\n",
       "      <td>1698939833000000000</td>\n",
       "      <td>01</td>\n",
       "      <td>Generator</td>\n",
       "      <td>x001</td>\n",
       "      <td>0</td>\n",
       "      <td>-0.007</td>\n",
       "      <td>0</td>\n",
       "      <td>0</td>\n",
       "      <td>0</td>\n",
       "      <td>0</td>\n",
       "      <td>11</td>\n",
       "    </tr>\n",
       "    <tr>\n",
       "      <th>4</th>\n",
       "      <td>GeneratorIREG01</td>\n",
       "      <td>1698939843000000000</td>\n",
       "      <td>01</td>\n",
       "      <td>Generator</td>\n",
       "      <td>x001</td>\n",
       "      <td>0</td>\n",
       "      <td>-0.007</td>\n",
       "      <td>0</td>\n",
       "      <td>0</td>\n",
       "      <td>0</td>\n",
       "      <td>0</td>\n",
       "      <td>11</td>\n",
       "    </tr>\n",
       "  </tbody>\n",
       "</table>\n",
       "</div>"
      ],
      "text/plain": [
       "              name                 time TURBINEID DEVICETYPE DEVICEID  \\\n",
       "0  GeneratorIREG01  1698939803000000000        01  Generator     x001   \n",
       "1  GeneratorIREG01  1698939813000000000        01  Generator     x001   \n",
       "2  GeneratorIREG01  1698939823000000000        01  Generator     x001   \n",
       "3  GeneratorIREG01  1698939833000000000        01  Generator     x001   \n",
       "4  GeneratorIREG01  1698939843000000000        01  Generator     x001   \n",
       "\n",
       "  IREG_UBUS IREG_IBUS IREG_SPEED IREG_PWM IREG_CHOPPER_PWM IREG_IGBT_TEMP  \\\n",
       "0       0.5    -0.007          0        0                0              0   \n",
       "1       0.3    -0.007          0        0                0              0   \n",
       "2       0.2    -0.007          0        0                0              0   \n",
       "3         0    -0.007          0        0                0              0   \n",
       "4         0    -0.007          0        0                0              0   \n",
       "\n",
       "  IREG_MOTOR_TEMP  \n",
       "0              12  \n",
       "1              12  \n",
       "2              12  \n",
       "3              11  \n",
       "4              11  "
      ]
     },
     "execution_count": 3,
     "metadata": {},
     "output_type": "execute_result"
    }
   ],
   "source": [
    "data1.head()"
   ]
  },
  {
   "cell_type": "code",
   "execution_count": 4,
   "id": "3b2f6eb7",
   "metadata": {},
   "outputs": [
    {
     "data": {
      "text/html": [
       "<div>\n",
       "<style scoped>\n",
       "    .dataframe tbody tr th:only-of-type {\n",
       "        vertical-align: middle;\n",
       "    }\n",
       "\n",
       "    .dataframe tbody tr th {\n",
       "        vertical-align: top;\n",
       "    }\n",
       "\n",
       "    .dataframe thead th {\n",
       "        text-align: right;\n",
       "    }\n",
       "</style>\n",
       "<table border=\"1\" class=\"dataframe\">\n",
       "  <thead>\n",
       "    <tr style=\"text-align: right;\">\n",
       "      <th></th>\n",
       "      <th>name</th>\n",
       "      <th>time</th>\n",
       "      <th>windspeed</th>\n",
       "      <th>windspeed_MW</th>\n",
       "    </tr>\n",
       "  </thead>\n",
       "  <tbody>\n",
       "    <tr>\n",
       "      <th>0</th>\n",
       "      <td>windgeber</td>\n",
       "      <td>1698745499000000000</td>\n",
       "      <td>7.2</td>\n",
       "      <td>9</td>\n",
       "    </tr>\n",
       "    <tr>\n",
       "      <th>1</th>\n",
       "      <td>windgeber</td>\n",
       "      <td>1698745500000000000</td>\n",
       "      <td>7.2</td>\n",
       "      <td>9</td>\n",
       "    </tr>\n",
       "    <tr>\n",
       "      <th>2</th>\n",
       "      <td>windgeber</td>\n",
       "      <td>1698745501000000000</td>\n",
       "      <td>7.2</td>\n",
       "      <td>9</td>\n",
       "    </tr>\n",
       "    <tr>\n",
       "      <th>3</th>\n",
       "      <td>windgeber</td>\n",
       "      <td>1698745502000000000</td>\n",
       "      <td>6.8</td>\n",
       "      <td>8.9</td>\n",
       "    </tr>\n",
       "    <tr>\n",
       "      <th>4</th>\n",
       "      <td>windgeber</td>\n",
       "      <td>1698745503000000000</td>\n",
       "      <td>7.6</td>\n",
       "      <td>8.9</td>\n",
       "    </tr>\n",
       "  </tbody>\n",
       "</table>\n",
       "</div>"
      ],
      "text/plain": [
       "        name                 time windspeed windspeed_MW\n",
       "0  windgeber  1698745499000000000       7.2            9\n",
       "1  windgeber  1698745500000000000       7.2            9\n",
       "2  windgeber  1698745501000000000       7.2            9\n",
       "3  windgeber  1698745502000000000       6.8          8.9\n",
       "4  windgeber  1698745503000000000       7.6          8.9"
      ]
     },
     "execution_count": 4,
     "metadata": {},
     "output_type": "execute_result"
    }
   ],
   "source": [
    "wind_speed_data.head()"
   ]
  },
  {
   "cell_type": "code",
   "execution_count": 7,
   "id": "059bcf76",
   "metadata": {},
   "outputs": [],
   "source": [
    "data1.drop(columns=['name', 'TURBINEID', 'DEVICETYPE', 'DEVICEID'], inplace=True)"
   ]
  },
  {
   "cell_type": "code",
   "execution_count": 8,
   "id": "6a8ad416",
   "metadata": {},
   "outputs": [],
   "source": [
    "wind_speed_data.drop(columns=['name', 'windspeed_MW'], inplace=True)"
   ]
  },
  {
   "cell_type": "code",
   "execution_count": 9,
   "id": "4dea9f76",
   "metadata": {},
   "outputs": [
    {
     "data": {
      "text/html": [
       "<div>\n",
       "<style scoped>\n",
       "    .dataframe tbody tr th:only-of-type {\n",
       "        vertical-align: middle;\n",
       "    }\n",
       "\n",
       "    .dataframe tbody tr th {\n",
       "        vertical-align: top;\n",
       "    }\n",
       "\n",
       "    .dataframe thead th {\n",
       "        text-align: right;\n",
       "    }\n",
       "</style>\n",
       "<table border=\"1\" class=\"dataframe\">\n",
       "  <thead>\n",
       "    <tr style=\"text-align: right;\">\n",
       "      <th></th>\n",
       "      <th>time</th>\n",
       "      <th>windspeed</th>\n",
       "    </tr>\n",
       "  </thead>\n",
       "  <tbody>\n",
       "    <tr>\n",
       "      <th>0</th>\n",
       "      <td>1698745499000000000</td>\n",
       "      <td>7.2</td>\n",
       "    </tr>\n",
       "    <tr>\n",
       "      <th>1</th>\n",
       "      <td>1698745500000000000</td>\n",
       "      <td>7.2</td>\n",
       "    </tr>\n",
       "    <tr>\n",
       "      <th>2</th>\n",
       "      <td>1698745501000000000</td>\n",
       "      <td>7.2</td>\n",
       "    </tr>\n",
       "    <tr>\n",
       "      <th>3</th>\n",
       "      <td>1698745502000000000</td>\n",
       "      <td>6.8</td>\n",
       "    </tr>\n",
       "    <tr>\n",
       "      <th>4</th>\n",
       "      <td>1698745503000000000</td>\n",
       "      <td>7.6</td>\n",
       "    </tr>\n",
       "  </tbody>\n",
       "</table>\n",
       "</div>"
      ],
      "text/plain": [
       "                  time windspeed\n",
       "0  1698745499000000000       7.2\n",
       "1  1698745500000000000       7.2\n",
       "2  1698745501000000000       7.2\n",
       "3  1698745502000000000       6.8\n",
       "4  1698745503000000000       7.6"
      ]
     },
     "execution_count": 9,
     "metadata": {},
     "output_type": "execute_result"
    }
   ],
   "source": [
    "wind_speed_data.head()"
   ]
  },
  {
   "cell_type": "code",
   "execution_count": 10,
   "id": "643ba443",
   "metadata": {},
   "outputs": [
    {
     "data": {
      "text/html": [
       "<div>\n",
       "<style scoped>\n",
       "    .dataframe tbody tr th:only-of-type {\n",
       "        vertical-align: middle;\n",
       "    }\n",
       "\n",
       "    .dataframe tbody tr th {\n",
       "        vertical-align: top;\n",
       "    }\n",
       "\n",
       "    .dataframe thead th {\n",
       "        text-align: right;\n",
       "    }\n",
       "</style>\n",
       "<table border=\"1\" class=\"dataframe\">\n",
       "  <thead>\n",
       "    <tr style=\"text-align: right;\">\n",
       "      <th></th>\n",
       "      <th>time</th>\n",
       "      <th>IREG_UBUS</th>\n",
       "      <th>IREG_IBUS</th>\n",
       "      <th>IREG_SPEED</th>\n",
       "      <th>IREG_PWM</th>\n",
       "      <th>IREG_CHOPPER_PWM</th>\n",
       "      <th>IREG_IGBT_TEMP</th>\n",
       "      <th>IREG_MOTOR_TEMP</th>\n",
       "    </tr>\n",
       "  </thead>\n",
       "  <tbody>\n",
       "    <tr>\n",
       "      <th>count</th>\n",
       "      <td>144006</td>\n",
       "      <td>144006</td>\n",
       "      <td>144006</td>\n",
       "      <td>144006</td>\n",
       "      <td>144006</td>\n",
       "      <td>144006</td>\n",
       "      <td>144006</td>\n",
       "      <td>144006</td>\n",
       "    </tr>\n",
       "    <tr>\n",
       "      <th>unique</th>\n",
       "      <td>143993</td>\n",
       "      <td>1427</td>\n",
       "      <td>1894</td>\n",
       "      <td>789</td>\n",
       "      <td>80</td>\n",
       "      <td>11</td>\n",
       "      <td>3</td>\n",
       "      <td>53</td>\n",
       "    </tr>\n",
       "    <tr>\n",
       "      <th>top</th>\n",
       "      <td>time</td>\n",
       "      <td>0</td>\n",
       "      <td>-0.007</td>\n",
       "      <td>0</td>\n",
       "      <td>0</td>\n",
       "      <td>0</td>\n",
       "      <td>0</td>\n",
       "      <td>10</td>\n",
       "    </tr>\n",
       "    <tr>\n",
       "      <th>freq</th>\n",
       "      <td>14</td>\n",
       "      <td>65161</td>\n",
       "      <td>97068</td>\n",
       "      <td>113941</td>\n",
       "      <td>72169</td>\n",
       "      <td>143978</td>\n",
       "      <td>143881</td>\n",
       "      <td>20780</td>\n",
       "    </tr>\n",
       "  </tbody>\n",
       "</table>\n",
       "</div>"
      ],
      "text/plain": [
       "          time IREG_UBUS IREG_IBUS IREG_SPEED IREG_PWM IREG_CHOPPER_PWM  \\\n",
       "count   144006    144006    144006     144006   144006           144006   \n",
       "unique  143993      1427      1894        789       80               11   \n",
       "top       time         0    -0.007          0        0                0   \n",
       "freq        14     65161     97068     113941    72169           143978   \n",
       "\n",
       "       IREG_IGBT_TEMP IREG_MOTOR_TEMP  \n",
       "count          144006          144006  \n",
       "unique              3              53  \n",
       "top                 0              10  \n",
       "freq           143881           20780  "
      ]
     },
     "execution_count": 10,
     "metadata": {},
     "output_type": "execute_result"
    }
   ],
   "source": [
    "data1.describe()"
   ]
  },
  {
   "cell_type": "code",
   "execution_count": 11,
   "id": "3c9421f3",
   "metadata": {},
   "outputs": [
    {
     "name": "stdout",
     "output_type": "stream",
     "text": [
      "data1 size:  144006\n",
      "wind_speed_data size:  1378140\n"
     ]
    }
   ],
   "source": [
    "print(\"data1 size: \",len(data1))\n",
    "print(\"wind_speed_data size: \",len(wind_speed_data))"
   ]
  },
  {
   "cell_type": "code",
   "execution_count": 12,
   "id": "fc2ce523",
   "metadata": {},
   "outputs": [
    {
     "name": "stdout",
     "output_type": "stream",
     "text": [
      "13\n",
      "136\n"
     ]
    }
   ],
   "source": [
    "print(data1['time'].duplicated().sum())  # Number of duplicate entries in df1\n",
    "print(wind_speed_data['time'].duplicated().sum())  # Number of duplicate entries in df2"
   ]
  },
  {
   "cell_type": "code",
   "execution_count": 13,
   "id": "49069d0a",
   "metadata": {},
   "outputs": [],
   "source": [
    "data1 = data1.drop_duplicates(subset='time')\n",
    "\n",
    "wind_speed_data = wind_speed_data.drop_duplicates(subset='time')"
   ]
  },
  {
   "cell_type": "code",
   "execution_count": 14,
   "id": "e75cfc1a",
   "metadata": {},
   "outputs": [],
   "source": [
    "# Merging both DataFrames based on 'time' column, keeping only the intersection\n",
    "merged_df = pd.merge(wind_speed_data, data1, on='time', how='inner')"
   ]
  },
  {
   "cell_type": "code",
   "execution_count": 15,
   "id": "b21784b7",
   "metadata": {},
   "outputs": [
    {
     "name": "stdout",
     "output_type": "stream",
     "text": [
      "143993\n",
      "1378004\n",
      "143706\n"
     ]
    }
   ],
   "source": [
    "print(len(data1['time'].unique()))\n",
    "print(len(wind_speed_data['time'].unique()))\n",
    "print(len(merged_df['time'].unique()))"
   ]
  },
  {
   "cell_type": "code",
   "execution_count": 16,
   "id": "b7808ced",
   "metadata": {},
   "outputs": [
    {
     "data": {
      "text/html": [
       "<div>\n",
       "<style scoped>\n",
       "    .dataframe tbody tr th:only-of-type {\n",
       "        vertical-align: middle;\n",
       "    }\n",
       "\n",
       "    .dataframe tbody tr th {\n",
       "        vertical-align: top;\n",
       "    }\n",
       "\n",
       "    .dataframe thead th {\n",
       "        text-align: right;\n",
       "    }\n",
       "</style>\n",
       "<table border=\"1\" class=\"dataframe\">\n",
       "  <thead>\n",
       "    <tr style=\"text-align: right;\">\n",
       "      <th></th>\n",
       "      <th>time</th>\n",
       "      <th>windspeed</th>\n",
       "      <th>IREG_UBUS</th>\n",
       "      <th>IREG_IBUS</th>\n",
       "      <th>IREG_SPEED</th>\n",
       "      <th>IREG_PWM</th>\n",
       "      <th>IREG_CHOPPER_PWM</th>\n",
       "      <th>IREG_IGBT_TEMP</th>\n",
       "      <th>IREG_MOTOR_TEMP</th>\n",
       "    </tr>\n",
       "  </thead>\n",
       "  <tbody>\n",
       "    <tr>\n",
       "      <th>0</th>\n",
       "      <td>time</td>\n",
       "      <td>windspeed</td>\n",
       "      <td>IREG_UBUS</td>\n",
       "      <td>IREG_IBUS</td>\n",
       "      <td>IREG_SPEED</td>\n",
       "      <td>IREG_PWM</td>\n",
       "      <td>IREG_CHOPPER_PWM</td>\n",
       "      <td>IREG_IGBT_TEMP</td>\n",
       "      <td>IREG_MOTOR_TEMP</td>\n",
       "    </tr>\n",
       "    <tr>\n",
       "      <th>1</th>\n",
       "      <td>1698939803000000000</td>\n",
       "      <td>5.2</td>\n",
       "      <td>0.5</td>\n",
       "      <td>-0.007</td>\n",
       "      <td>0</td>\n",
       "      <td>0</td>\n",
       "      <td>0</td>\n",
       "      <td>0</td>\n",
       "      <td>12</td>\n",
       "    </tr>\n",
       "    <tr>\n",
       "      <th>2</th>\n",
       "      <td>1698939813000000000</td>\n",
       "      <td>5.6</td>\n",
       "      <td>0.3</td>\n",
       "      <td>-0.007</td>\n",
       "      <td>0</td>\n",
       "      <td>0</td>\n",
       "      <td>0</td>\n",
       "      <td>0</td>\n",
       "      <td>12</td>\n",
       "    </tr>\n",
       "    <tr>\n",
       "      <th>3</th>\n",
       "      <td>1698939823000000000</td>\n",
       "      <td>5.2</td>\n",
       "      <td>0.2</td>\n",
       "      <td>-0.007</td>\n",
       "      <td>0</td>\n",
       "      <td>0</td>\n",
       "      <td>0</td>\n",
       "      <td>0</td>\n",
       "      <td>12</td>\n",
       "    </tr>\n",
       "    <tr>\n",
       "      <th>4</th>\n",
       "      <td>1698939833000000000</td>\n",
       "      <td>6</td>\n",
       "      <td>0</td>\n",
       "      <td>-0.007</td>\n",
       "      <td>0</td>\n",
       "      <td>0</td>\n",
       "      <td>0</td>\n",
       "      <td>0</td>\n",
       "      <td>11</td>\n",
       "    </tr>\n",
       "  </tbody>\n",
       "</table>\n",
       "</div>"
      ],
      "text/plain": [
       "                  time  windspeed  IREG_UBUS  IREG_IBUS  IREG_SPEED  IREG_PWM  \\\n",
       "0                 time  windspeed  IREG_UBUS  IREG_IBUS  IREG_SPEED  IREG_PWM   \n",
       "1  1698939803000000000        5.2        0.5     -0.007           0         0   \n",
       "2  1698939813000000000        5.6        0.3     -0.007           0         0   \n",
       "3  1698939823000000000        5.2        0.2     -0.007           0         0   \n",
       "4  1698939833000000000          6          0     -0.007           0         0   \n",
       "\n",
       "   IREG_CHOPPER_PWM  IREG_IGBT_TEMP  IREG_MOTOR_TEMP  \n",
       "0  IREG_CHOPPER_PWM  IREG_IGBT_TEMP  IREG_MOTOR_TEMP  \n",
       "1                 0               0               12  \n",
       "2                 0               0               12  \n",
       "3                 0               0               12  \n",
       "4                 0               0               11  "
      ]
     },
     "execution_count": 16,
     "metadata": {},
     "output_type": "execute_result"
    }
   ],
   "source": [
    "merged_df.head()"
   ]
  },
  {
   "cell_type": "code",
   "execution_count": 17,
   "id": "0f059ba4",
   "metadata": {},
   "outputs": [
    {
     "data": {
      "text/plain": [
       "143706"
      ]
     },
     "execution_count": 17,
     "metadata": {},
     "output_type": "execute_result"
    }
   ],
   "source": [
    "len(merged_df)"
   ]
  },
  {
   "cell_type": "code",
   "execution_count": 18,
   "id": "2b28b261",
   "metadata": {},
   "outputs": [
    {
     "data": {
      "text/html": [
       "<div>\n",
       "<style scoped>\n",
       "    .dataframe tbody tr th:only-of-type {\n",
       "        vertical-align: middle;\n",
       "    }\n",
       "\n",
       "    .dataframe tbody tr th {\n",
       "        vertical-align: top;\n",
       "    }\n",
       "\n",
       "    .dataframe thead th {\n",
       "        text-align: right;\n",
       "    }\n",
       "</style>\n",
       "<table border=\"1\" class=\"dataframe\">\n",
       "  <thead>\n",
       "    <tr style=\"text-align: right;\">\n",
       "      <th></th>\n",
       "      <th>time</th>\n",
       "      <th>windspeed</th>\n",
       "      <th>IREG_UBUS</th>\n",
       "      <th>IREG_IBUS</th>\n",
       "      <th>IREG_SPEED</th>\n",
       "      <th>IREG_PWM</th>\n",
       "      <th>IREG_CHOPPER_PWM</th>\n",
       "      <th>IREG_IGBT_TEMP</th>\n",
       "      <th>IREG_MOTOR_TEMP</th>\n",
       "    </tr>\n",
       "  </thead>\n",
       "  <tbody>\n",
       "    <tr>\n",
       "      <th>count</th>\n",
       "      <td>143706</td>\n",
       "      <td>143706</td>\n",
       "      <td>143706</td>\n",
       "      <td>143706</td>\n",
       "      <td>143706</td>\n",
       "      <td>143706</td>\n",
       "      <td>143706</td>\n",
       "      <td>143706</td>\n",
       "      <td>143706</td>\n",
       "    </tr>\n",
       "    <tr>\n",
       "      <th>unique</th>\n",
       "      <td>143706</td>\n",
       "      <td>48</td>\n",
       "      <td>1427</td>\n",
       "      <td>1894</td>\n",
       "      <td>789</td>\n",
       "      <td>80</td>\n",
       "      <td>11</td>\n",
       "      <td>3</td>\n",
       "      <td>53</td>\n",
       "    </tr>\n",
       "    <tr>\n",
       "      <th>top</th>\n",
       "      <td>time</td>\n",
       "      <td>4</td>\n",
       "      <td>0</td>\n",
       "      <td>-0.007</td>\n",
       "      <td>0</td>\n",
       "      <td>0</td>\n",
       "      <td>0</td>\n",
       "      <td>0</td>\n",
       "      <td>10</td>\n",
       "    </tr>\n",
       "    <tr>\n",
       "      <th>freq</th>\n",
       "      <td>1</td>\n",
       "      <td>10061</td>\n",
       "      <td>65053</td>\n",
       "      <td>96895</td>\n",
       "      <td>113735</td>\n",
       "      <td>72046</td>\n",
       "      <td>143691</td>\n",
       "      <td>143594</td>\n",
       "      <td>20741</td>\n",
       "    </tr>\n",
       "  </tbody>\n",
       "</table>\n",
       "</div>"
      ],
      "text/plain": [
       "          time windspeed IREG_UBUS IREG_IBUS IREG_SPEED IREG_PWM  \\\n",
       "count   143706    143706    143706    143706     143706   143706   \n",
       "unique  143706        48      1427      1894        789       80   \n",
       "top       time         4         0    -0.007          0        0   \n",
       "freq         1     10061     65053     96895     113735    72046   \n",
       "\n",
       "       IREG_CHOPPER_PWM IREG_IGBT_TEMP IREG_MOTOR_TEMP  \n",
       "count            143706         143706          143706  \n",
       "unique               11              3              53  \n",
       "top                   0              0              10  \n",
       "freq             143691         143594           20741  "
      ]
     },
     "execution_count": 18,
     "metadata": {},
     "output_type": "execute_result"
    }
   ],
   "source": [
    "merged_df.describe()"
   ]
  },
  {
   "cell_type": "markdown",
   "id": "97c11e63",
   "metadata": {},
   "source": [
    "## Filtering data for MPPT Mode\n",
    "Because mapping is required only when the turbine is in MPPT mode"
   ]
  },
  {
   "cell_type": "code",
   "execution_count": 19,
   "id": "0646f440",
   "metadata": {},
   "outputs": [],
   "source": [
    "merged_df['IREG_SPEED'] = pd.to_numeric(merged_df['IREG_SPEED'], errors='coerce')"
   ]
  },
  {
   "cell_type": "code",
   "execution_count": 20,
   "id": "23f3e296",
   "metadata": {},
   "outputs": [
    {
     "data": {
      "text/plain": [
       "0           NaN\n",
       "1           0.0\n",
       "2           0.0\n",
       "3           0.0\n",
       "4           0.0\n",
       "          ...  \n",
       "143701    326.0\n",
       "143702    361.0\n",
       "143703    329.0\n",
       "143704    379.0\n",
       "143705    370.0\n",
       "Name: IREG_SPEED, Length: 143706, dtype: float64"
      ]
     },
     "execution_count": 20,
     "metadata": {},
     "output_type": "execute_result"
    }
   ],
   "source": [
    "merged_df['IREG_SPEED']"
   ]
  },
  {
   "cell_type": "code",
   "execution_count": 21,
   "id": "12c45abe",
   "metadata": {},
   "outputs": [],
   "source": [
    "filtered_data = merged_df[(merged_df['IREG_SPEED'] >= 400) & (merged_df['IREG_SPEED'] <= 750)]"
   ]
  },
  {
   "cell_type": "code",
   "execution_count": 22,
   "id": "e695b8df",
   "metadata": {},
   "outputs": [
    {
     "data": {
      "text/plain": [
       "22973"
      ]
     },
     "execution_count": 22,
     "metadata": {},
     "output_type": "execute_result"
    }
   ],
   "source": [
    "len(filtered_data)"
   ]
  },
  {
   "cell_type": "code",
   "execution_count": 23,
   "id": "125e6f39",
   "metadata": {},
   "outputs": [],
   "source": [
    "filtered_data.reset_index(drop=True, inplace=True)\n",
    "data=filtered_data.drop(columns=['time'])"
   ]
  },
  {
   "cell_type": "code",
   "execution_count": 24,
   "id": "bad24a5f",
   "metadata": {},
   "outputs": [
    {
     "data": {
      "text/html": [
       "<div>\n",
       "<style scoped>\n",
       "    .dataframe tbody tr th:only-of-type {\n",
       "        vertical-align: middle;\n",
       "    }\n",
       "\n",
       "    .dataframe tbody tr th {\n",
       "        vertical-align: top;\n",
       "    }\n",
       "\n",
       "    .dataframe thead th {\n",
       "        text-align: right;\n",
       "    }\n",
       "</style>\n",
       "<table border=\"1\" class=\"dataframe\">\n",
       "  <thead>\n",
       "    <tr style=\"text-align: right;\">\n",
       "      <th></th>\n",
       "      <th>windspeed</th>\n",
       "      <th>IREG_UBUS</th>\n",
       "      <th>IREG_IBUS</th>\n",
       "      <th>IREG_SPEED</th>\n",
       "      <th>IREG_PWM</th>\n",
       "      <th>IREG_CHOPPER_PWM</th>\n",
       "      <th>IREG_IGBT_TEMP</th>\n",
       "      <th>IREG_MOTOR_TEMP</th>\n",
       "    </tr>\n",
       "  </thead>\n",
       "  <tbody>\n",
       "    <tr>\n",
       "      <th>0</th>\n",
       "      <td>5.2</td>\n",
       "      <td>201.1</td>\n",
       "      <td>0.99</td>\n",
       "      <td>696.0</td>\n",
       "      <td>62</td>\n",
       "      <td>0</td>\n",
       "      <td>0</td>\n",
       "      <td>12</td>\n",
       "    </tr>\n",
       "    <tr>\n",
       "      <th>1</th>\n",
       "      <td>4.4</td>\n",
       "      <td>198.3</td>\n",
       "      <td>1.485</td>\n",
       "      <td>701.0</td>\n",
       "      <td>64</td>\n",
       "      <td>0</td>\n",
       "      <td>0</td>\n",
       "      <td>12</td>\n",
       "    </tr>\n",
       "    <tr>\n",
       "      <th>2</th>\n",
       "      <td>6</td>\n",
       "      <td>204.8</td>\n",
       "      <td>1.321</td>\n",
       "      <td>733.0</td>\n",
       "      <td>61</td>\n",
       "      <td>0</td>\n",
       "      <td>0</td>\n",
       "      <td>13</td>\n",
       "    </tr>\n",
       "    <tr>\n",
       "      <th>3</th>\n",
       "      <td>4.8</td>\n",
       "      <td>198.2</td>\n",
       "      <td>0.46</td>\n",
       "      <td>621.0</td>\n",
       "      <td>63</td>\n",
       "      <td>0</td>\n",
       "      <td>0</td>\n",
       "      <td>14</td>\n",
       "    </tr>\n",
       "    <tr>\n",
       "      <th>4</th>\n",
       "      <td>5.2</td>\n",
       "      <td>198.6</td>\n",
       "      <td>0.247</td>\n",
       "      <td>588.0</td>\n",
       "      <td>64</td>\n",
       "      <td>0</td>\n",
       "      <td>0</td>\n",
       "      <td>14</td>\n",
       "    </tr>\n",
       "    <tr>\n",
       "      <th>...</th>\n",
       "      <td>...</td>\n",
       "      <td>...</td>\n",
       "      <td>...</td>\n",
       "      <td>...</td>\n",
       "      <td>...</td>\n",
       "      <td>...</td>\n",
       "      <td>...</td>\n",
       "      <td>...</td>\n",
       "    </tr>\n",
       "    <tr>\n",
       "      <th>22968</th>\n",
       "      <td>7.2</td>\n",
       "      <td>197.8</td>\n",
       "      <td>0.64</td>\n",
       "      <td>424.0</td>\n",
       "      <td>78</td>\n",
       "      <td>0</td>\n",
       "      <td>0</td>\n",
       "      <td>23</td>\n",
       "    </tr>\n",
       "    <tr>\n",
       "      <th>22969</th>\n",
       "      <td>7.6</td>\n",
       "      <td>198.8</td>\n",
       "      <td>0.541</td>\n",
       "      <td>466.0</td>\n",
       "      <td>75</td>\n",
       "      <td>0</td>\n",
       "      <td>0</td>\n",
       "      <td>23</td>\n",
       "    </tr>\n",
       "    <tr>\n",
       "      <th>22970</th>\n",
       "      <td>7.2</td>\n",
       "      <td>199.9</td>\n",
       "      <td>1.028</td>\n",
       "      <td>524.0</td>\n",
       "      <td>74</td>\n",
       "      <td>0</td>\n",
       "      <td>0</td>\n",
       "      <td>23</td>\n",
       "    </tr>\n",
       "    <tr>\n",
       "      <th>22971</th>\n",
       "      <td>7.2</td>\n",
       "      <td>201.9</td>\n",
       "      <td>0.59</td>\n",
       "      <td>485.0</td>\n",
       "      <td>73</td>\n",
       "      <td>0</td>\n",
       "      <td>0</td>\n",
       "      <td>24</td>\n",
       "    </tr>\n",
       "    <tr>\n",
       "      <th>22972</th>\n",
       "      <td>6.8</td>\n",
       "      <td>199.8</td>\n",
       "      <td>0.601</td>\n",
       "      <td>427.0</td>\n",
       "      <td>78</td>\n",
       "      <td>0</td>\n",
       "      <td>0</td>\n",
       "      <td>24</td>\n",
       "    </tr>\n",
       "  </tbody>\n",
       "</table>\n",
       "<p>22973 rows × 8 columns</p>\n",
       "</div>"
      ],
      "text/plain": [
       "      windspeed IREG_UBUS IREG_IBUS  IREG_SPEED IREG_PWM IREG_CHOPPER_PWM  \\\n",
       "0           5.2     201.1      0.99       696.0       62                0   \n",
       "1           4.4     198.3     1.485       701.0       64                0   \n",
       "2             6     204.8     1.321       733.0       61                0   \n",
       "3           4.8     198.2      0.46       621.0       63                0   \n",
       "4           5.2     198.6     0.247       588.0       64                0   \n",
       "...         ...       ...       ...         ...      ...              ...   \n",
       "22968       7.2     197.8      0.64       424.0       78                0   \n",
       "22969       7.6     198.8     0.541       466.0       75                0   \n",
       "22970       7.2     199.9     1.028       524.0       74                0   \n",
       "22971       7.2     201.9      0.59       485.0       73                0   \n",
       "22972       6.8     199.8     0.601       427.0       78                0   \n",
       "\n",
       "      IREG_IGBT_TEMP IREG_MOTOR_TEMP  \n",
       "0                  0              12  \n",
       "1                  0              12  \n",
       "2                  0              13  \n",
       "3                  0              14  \n",
       "4                  0              14  \n",
       "...              ...             ...  \n",
       "22968              0              23  \n",
       "22969              0              23  \n",
       "22970              0              23  \n",
       "22971              0              24  \n",
       "22972              0              24  \n",
       "\n",
       "[22973 rows x 8 columns]"
      ]
     },
     "execution_count": 24,
     "metadata": {},
     "output_type": "execute_result"
    }
   ],
   "source": [
    "data"
   ]
  },
  {
   "cell_type": "code",
   "execution_count": 25,
   "id": "096fc09a",
   "metadata": {},
   "outputs": [
    {
     "name": "stdout",
     "output_type": "stream",
     "text": [
      "<class 'pandas.core.frame.DataFrame'>\n",
      "RangeIndex: 22973 entries, 0 to 22972\n",
      "Data columns (total 8 columns):\n",
      " #   Column            Non-Null Count  Dtype  \n",
      "---  ------            --------------  -----  \n",
      " 0   windspeed         22973 non-null  object \n",
      " 1   IREG_UBUS         22973 non-null  object \n",
      " 2   IREG_IBUS         22973 non-null  object \n",
      " 3   IREG_SPEED        22973 non-null  float64\n",
      " 4   IREG_PWM          22973 non-null  object \n",
      " 5   IREG_CHOPPER_PWM  22973 non-null  object \n",
      " 6   IREG_IGBT_TEMP    22973 non-null  object \n",
      " 7   IREG_MOTOR_TEMP   22973 non-null  object \n",
      "dtypes: float64(1), object(7)\n",
      "memory usage: 1.4+ MB\n"
     ]
    }
   ],
   "source": [
    "data.info()"
   ]
  },
  {
   "cell_type": "code",
   "execution_count": 26,
   "id": "eff9d9e8",
   "metadata": {},
   "outputs": [],
   "source": [
    "data['IREG_UBUS'] = pd.to_numeric(data['IREG_UBUS'], errors='coerce')\n",
    "data['IREG_IBUS'] = pd.to_numeric(data['IREG_IBUS'], errors='coerce')\n",
    "data['IREG_PWM'] = pd.to_numeric(data['IREG_PWM'], errors='coerce')\n",
    "data['IREG_CHOPPER_PWM'] = pd.to_numeric(data['IREG_CHOPPER_PWM'], errors='coerce')\n",
    "data['IREG_IGBT_TEMP'] = pd.to_numeric(data['IREG_IGBT_TEMP'], errors='coerce')\n",
    "data['IREG_MOTOR_TEMP'] = pd.to_numeric(data['IREG_MOTOR_TEMP'], errors='coerce')\n",
    "data['windspeed'] = pd.to_numeric(data['windspeed'], errors='coerce')"
   ]
  },
  {
   "cell_type": "code",
   "execution_count": 27,
   "id": "85ac41fc",
   "metadata": {},
   "outputs": [
    {
     "data": {
      "image/png": "[encoded data removed]",
      "text/plain": [
       "<Figure size 500x500 with 2 Axes>"
      ]
     },
     "metadata": {},
     "output_type": "display_data"
    }
   ],
   "source": [
    "corr_mat = data.corr()\n",
    "plt.figure(figsize=(5, 5))\n",
    "sns.heatmap(corr_mat, annot=True, cmap='coolwarm', linewidths=1, fmt='.1f', square = True)\n",
    "plt.title('Correlation Heatmap')\n",
    "plt.show()"
   ]
  },
  {
   "cell_type": "markdown",
   "id": "d62213d4",
   "metadata": {},
   "source": [
    "We can drop the following features:\n",
    "1. IREG_CHOPPER_PWM (Chopper Duty Cycle): No correlation (0.0) with turbine speed, so you can drop this feature.\n",
    "2. IREG_IGBT_TEMP (IGBT Module Temperature): No correlation (0.0), so it can be dropped.\n",
    "3. IREG_MOTOR_TEMP (Generator Temperature): No correlation (0.0), so it can be dropped."
   ]
  },
  {
   "cell_type": "code",
   "execution_count": 31,
   "id": "882a62d8",
   "metadata": {},
   "outputs": [],
   "source": [
    "X = data.drop(columns=['IREG_CHOPPER_PWM', 'IREG_IGBT_TEMP', 'IREG_MOTOR_TEMP'])"
   ]
  },
  {
   "cell_type": "markdown",
   "id": "091f6c0a",
   "metadata": {},
   "source": [
    "## Splitting the data into label and features"
   ]
  },
  {
   "cell_type": "code",
   "execution_count": 32,
   "id": "00c4960e",
   "metadata": {},
   "outputs": [],
   "source": [
    "y = X['IREG_SPEED']"
   ]
  },
  {
   "cell_type": "code",
   "execution_count": 33,
   "id": "97878a9b",
   "metadata": {},
   "outputs": [],
   "source": [
    "y = pd.DataFrame(y)"
   ]
  },
  {
   "cell_type": "code",
   "execution_count": 34,
   "id": "8f394fa5",
   "metadata": {},
   "outputs": [],
   "source": [
    "X = X.drop(columns=['IREG_SPEED'])"
   ]
  },
  {
   "cell_type": "code",
   "execution_count": 35,
   "id": "c5cf074d",
   "metadata": {},
   "outputs": [],
   "source": [
    "# X"
   ]
  },
  {
   "cell_type": "markdown",
   "id": "a25b491b",
   "metadata": {},
   "source": [
    "## Normalizing the data"
   ]
  },
  {
   "cell_type": "code",
   "execution_count": 36,
   "id": "bd1adad3",
   "metadata": {},
   "outputs": [],
   "source": [
    "X_scaler = StandardScaler()\n",
    "X_scaler.fit(X)\n",
    "X_scaled = X_scaler.transform(X)\n",
    "\n",
    "y_scaler = StandardScaler()\n",
    "y_scaler.fit(y)\n",
    "y_scaled = y_scaler.transform(y)"
   ]
  },
  {
   "cell_type": "code",
   "execution_count": 37,
   "id": "12d1ad56",
   "metadata": {},
   "outputs": [
    {
     "data": {
      "text/plain": [
       "array([[-0.47846344,  0.27012557,  1.29162489, -0.64236397],\n",
       "       [-0.96433992, -0.37941015,  2.69943282, -0.27855884],\n",
       "       [ 0.00741304,  1.12844063,  2.23300757, -0.82426653],\n",
       "       ...,\n",
       "       [ 0.73622775, -0.00824688,  1.39969903,  1.54046681],\n",
       "       [ 0.73622775,  0.4557072 ,  0.15400232,  1.35856424],\n",
       "       [ 0.49328952, -0.03144459,  0.18528694,  2.26807707]])"
      ]
     },
     "execution_count": 37,
     "metadata": {},
     "output_type": "execute_result"
    }
   ],
   "source": [
    "X_scaled"
   ]
  },
  {
   "cell_type": "code",
   "execution_count": 38,
   "id": "5eadcefa",
   "metadata": {},
   "outputs": [],
   "source": [
    "X_scaled = pd.DataFrame(X_scaled, columns=X.columns)\n",
    "y_scaled = pd.DataFrame(y_scaled, columns=y.columns)"
   ]
  },
  {
   "cell_type": "code",
   "execution_count": 39,
   "id": "5f4a5608",
   "metadata": {},
   "outputs": [
    {
     "data": {
      "text/html": [
       "<div>\n",
       "<style scoped>\n",
       "    .dataframe tbody tr th:only-of-type {\n",
       "        vertical-align: middle;\n",
       "    }\n",
       "\n",
       "    .dataframe tbody tr th {\n",
       "        vertical-align: top;\n",
       "    }\n",
       "\n",
       "    .dataframe thead th {\n",
       "        text-align: right;\n",
       "    }\n",
       "</style>\n",
       "<table border=\"1\" class=\"dataframe\">\n",
       "  <thead>\n",
       "    <tr style=\"text-align: right;\">\n",
       "      <th></th>\n",
       "      <th>windspeed</th>\n",
       "      <th>IREG_UBUS</th>\n",
       "      <th>IREG_IBUS</th>\n",
       "      <th>IREG_PWM</th>\n",
       "    </tr>\n",
       "  </thead>\n",
       "  <tbody>\n",
       "    <tr>\n",
       "      <th>0</th>\n",
       "      <td>-0.478463</td>\n",
       "      <td>0.270126</td>\n",
       "      <td>1.291625</td>\n",
       "      <td>-0.642364</td>\n",
       "    </tr>\n",
       "    <tr>\n",
       "      <th>1</th>\n",
       "      <td>-0.964340</td>\n",
       "      <td>-0.379410</td>\n",
       "      <td>2.699433</td>\n",
       "      <td>-0.278559</td>\n",
       "    </tr>\n",
       "    <tr>\n",
       "      <th>2</th>\n",
       "      <td>0.007413</td>\n",
       "      <td>1.128441</td>\n",
       "      <td>2.233008</td>\n",
       "      <td>-0.824267</td>\n",
       "    </tr>\n",
       "    <tr>\n",
       "      <th>3</th>\n",
       "      <td>-0.721402</td>\n",
       "      <td>-0.402608</td>\n",
       "      <td>-0.215725</td>\n",
       "      <td>-0.460461</td>\n",
       "    </tr>\n",
       "    <tr>\n",
       "      <th>4</th>\n",
       "      <td>-0.478463</td>\n",
       "      <td>-0.309817</td>\n",
       "      <td>-0.821509</td>\n",
       "      <td>-0.278559</td>\n",
       "    </tr>\n",
       "    <tr>\n",
       "      <th>...</th>\n",
       "      <td>...</td>\n",
       "      <td>...</td>\n",
       "      <td>...</td>\n",
       "      <td>...</td>\n",
       "    </tr>\n",
       "    <tr>\n",
       "      <th>22968</th>\n",
       "      <td>0.736228</td>\n",
       "      <td>-0.495399</td>\n",
       "      <td>0.296205</td>\n",
       "      <td>2.268077</td>\n",
       "    </tr>\n",
       "    <tr>\n",
       "      <th>22969</th>\n",
       "      <td>0.979166</td>\n",
       "      <td>-0.263422</td>\n",
       "      <td>0.014644</td>\n",
       "      <td>1.722369</td>\n",
       "    </tr>\n",
       "    <tr>\n",
       "      <th>22970</th>\n",
       "      <td>0.736228</td>\n",
       "      <td>-0.008247</td>\n",
       "      <td>1.399699</td>\n",
       "      <td>1.540467</td>\n",
       "    </tr>\n",
       "    <tr>\n",
       "      <th>22971</th>\n",
       "      <td>0.736228</td>\n",
       "      <td>0.455707</td>\n",
       "      <td>0.154002</td>\n",
       "      <td>1.358564</td>\n",
       "    </tr>\n",
       "    <tr>\n",
       "      <th>22972</th>\n",
       "      <td>0.493290</td>\n",
       "      <td>-0.031445</td>\n",
       "      <td>0.185287</td>\n",
       "      <td>2.268077</td>\n",
       "    </tr>\n",
       "  </tbody>\n",
       "</table>\n",
       "<p>22973 rows × 4 columns</p>\n",
       "</div>"
      ],
      "text/plain": [
       "       windspeed  IREG_UBUS  IREG_IBUS  IREG_PWM\n",
       "0      -0.478463   0.270126   1.291625 -0.642364\n",
       "1      -0.964340  -0.379410   2.699433 -0.278559\n",
       "2       0.007413   1.128441   2.233008 -0.824267\n",
       "3      -0.721402  -0.402608  -0.215725 -0.460461\n",
       "4      -0.478463  -0.309817  -0.821509 -0.278559\n",
       "...          ...        ...        ...       ...\n",
       "22968   0.736228  -0.495399   0.296205  2.268077\n",
       "22969   0.979166  -0.263422   0.014644  1.722369\n",
       "22970   0.736228  -0.008247   1.399699  1.540467\n",
       "22971   0.736228   0.455707   0.154002  1.358564\n",
       "22972   0.493290  -0.031445   0.185287  2.268077\n",
       "\n",
       "[22973 rows x 4 columns]"
      ]
     },
     "execution_count": 39,
     "metadata": {},
     "output_type": "execute_result"
    }
   ],
   "source": [
    "X_scaled"
   ]
  },
  {
   "cell_type": "code",
   "execution_count": 40,
   "id": "e05e27b1",
   "metadata": {},
   "outputs": [
    {
     "data": {
      "text/html": [
       "<div>\n",
       "<style scoped>\n",
       "    .dataframe tbody tr th:only-of-type {\n",
       "        vertical-align: middle;\n",
       "    }\n",
       "\n",
       "    .dataframe tbody tr th {\n",
       "        vertical-align: top;\n",
       "    }\n",
       "\n",
       "    .dataframe thead th {\n",
       "        text-align: right;\n",
       "    }\n",
       "</style>\n",
       "<table border=\"1\" class=\"dataframe\">\n",
       "  <thead>\n",
       "    <tr style=\"text-align: right;\">\n",
       "      <th></th>\n",
       "      <th>IREG_SPEED</th>\n",
       "    </tr>\n",
       "  </thead>\n",
       "  <tbody>\n",
       "    <tr>\n",
       "      <th>0</th>\n",
       "      <td>1.337333</td>\n",
       "    </tr>\n",
       "    <tr>\n",
       "      <th>1</th>\n",
       "      <td>1.396456</td>\n",
       "    </tr>\n",
       "    <tr>\n",
       "      <th>2</th>\n",
       "      <td>1.774842</td>\n",
       "    </tr>\n",
       "    <tr>\n",
       "      <th>3</th>\n",
       "      <td>0.450489</td>\n",
       "    </tr>\n",
       "    <tr>\n",
       "      <th>4</th>\n",
       "      <td>0.060278</td>\n",
       "    </tr>\n",
       "    <tr>\n",
       "      <th>...</th>\n",
       "      <td>...</td>\n",
       "    </tr>\n",
       "    <tr>\n",
       "      <th>22968</th>\n",
       "      <td>-1.878952</td>\n",
       "    </tr>\n",
       "    <tr>\n",
       "      <th>22969</th>\n",
       "      <td>-1.382320</td>\n",
       "    </tr>\n",
       "    <tr>\n",
       "      <th>22970</th>\n",
       "      <td>-0.696494</td>\n",
       "    </tr>\n",
       "    <tr>\n",
       "      <th>22971</th>\n",
       "      <td>-1.157653</td>\n",
       "    </tr>\n",
       "    <tr>\n",
       "      <th>22972</th>\n",
       "      <td>-1.843478</td>\n",
       "    </tr>\n",
       "  </tbody>\n",
       "</table>\n",
       "<p>22973 rows × 1 columns</p>\n",
       "</div>"
      ],
      "text/plain": [
       "       IREG_SPEED\n",
       "0        1.337333\n",
       "1        1.396456\n",
       "2        1.774842\n",
       "3        0.450489\n",
       "4        0.060278\n",
       "...           ...\n",
       "22968   -1.878952\n",
       "22969   -1.382320\n",
       "22970   -0.696494\n",
       "22971   -1.157653\n",
       "22972   -1.843478\n",
       "\n",
       "[22973 rows x 1 columns]"
      ]
     },
     "execution_count": 40,
     "metadata": {},
     "output_type": "execute_result"
    }
   ],
   "source": [
    "y_scaled"
   ]
  },
  {
   "cell_type": "markdown",
   "id": "e044be11",
   "metadata": {},
   "source": [
    "## Feature Engineering"
   ]
  },
  {
   "cell_type": "code",
   "execution_count": 41,
   "id": "179a9285",
   "metadata": {},
   "outputs": [],
   "source": [
    "# from sklearn.preprocessing import PolynomialFeatures\n",
    "# poly = PolynomialFeatures(degree=2)\n",
    "# X_poly = poly.fit_transform(X)"
   ]
  },
  {
   "cell_type": "markdown",
   "id": "66165c47",
   "metadata": {},
   "source": [
    "## Train-Test Split"
   ]
  },
  {
   "cell_type": "code",
   "execution_count": 42,
   "id": "4bb28edc",
   "metadata": {},
   "outputs": [],
   "source": [
    "from sklearn.model_selection import train_test_split"
   ]
  },
  {
   "cell_type": "code",
   "execution_count": 43,
   "id": "f46df1e3",
   "metadata": {},
   "outputs": [],
   "source": [
    "# train_X, val_X, train_y, val_y = train_test_split(X_poly, y, test_size=0.1, random_state=42)\n",
    "\n",
    "train_X, val_X, train_y, val_y = train_test_split(X_scaled, y_scaled, test_size=0.4, random_state=42)"
   ]
  },
  {
   "cell_type": "code",
   "execution_count": 44,
   "id": "217c84bd",
   "metadata": {},
   "outputs": [
    {
     "data": {
      "text/plain": [
       "13783"
      ]
     },
     "execution_count": 44,
     "metadata": {},
     "output_type": "execute_result"
    }
   ],
   "source": [
    "len(train_X)"
   ]
  },
  {
   "cell_type": "code",
   "execution_count": 45,
   "id": "4004d6dd",
   "metadata": {},
   "outputs": [
    {
     "data": {
      "text/plain": [
       "9190"
      ]
     },
     "execution_count": 45,
     "metadata": {},
     "output_type": "execute_result"
    }
   ],
   "source": [
    "len(val_X)"
   ]
  },
  {
   "cell_type": "markdown",
   "id": "aa1074be",
   "metadata": {},
   "source": [
    "## Using LightGBM (Light Gradient Boosting Machine)"
   ]
  },
  {
   "cell_type": "code",
   "execution_count": 46,
   "id": "4440de77",
   "metadata": {},
   "outputs": [],
   "source": [
    "# from lightgbm import LGBMRegressor"
   ]
  },
  {
   "cell_type": "code",
   "execution_count": 47,
   "id": "1e3e0438",
   "metadata": {},
   "outputs": [],
   "source": [
    "# lightgbm_model = LGBMRegressor(learning_rate=0.01, n_estimators=200)\n",
    "# lightgbm_model.fit(train_X, train_y.values.ravel())"
   ]
  },
  {
   "cell_type": "code",
   "execution_count": 48,
   "id": "1fa24d46",
   "metadata": {},
   "outputs": [],
   "source": [
    "# preds5 = lightgbm_model.predict(val_X)"
   ]
  },
  {
   "cell_type": "code",
   "execution_count": 49,
   "id": "6c2d8976",
   "metadata": {},
   "outputs": [],
   "source": [
    "# from sklearn.metrics import mean_absolute_error, mean_squared_error, r2_score\n",
    "# print(\"MAE: \", mean_absolute_error(val_y, preds5))\n",
    "# print(\"RMSE: \",np.sqrt(mean_squared_error(val_y, preds5)))\n",
    "# print(\"R2 Score: \", r2_score(val_y, preds5))"
   ]
  },
  {
   "cell_type": "markdown",
   "id": "ab056fe0",
   "metadata": {},
   "source": [
    "## Using XGBoost"
   ]
  },
  {
   "cell_type": "code",
   "execution_count": 50,
   "id": "28fe1456",
   "metadata": {},
   "outputs": [],
   "source": [
    "import xgboost as xgb"
   ]
  },
  {
   "cell_type": "code",
   "execution_count": 51,
   "id": "b1ce48e0",
   "metadata": {},
   "outputs": [
    {
     "data": {
      "text/html": [
       "<style>#sk-container-id-1 {color: black;background-color: white;}#sk-container-id-1 pre{padding: 0;}#sk-container-id-1 div.sk-toggleable {background-color: white;}#sk-container-id-1 label.sk-toggleable__label {cursor: pointer;display: block;width: 100%;margin-bottom: 0;padding: 0.3em;box-sizing: border-box;text-align: center;}#sk-container-id-1 label.sk-toggleable__label-arrow:before {content: \"▸\";float: left;margin-right: 0.25em;color: #696969;}#sk-container-id-1 label.sk-toggleable__label-arrow:hover:before {color: black;}#sk-container-id-1 div.sk-estimator:hover label.sk-toggleable__label-arrow:before {color: black;}#sk-container-id-1 div.sk-toggleable__content {max-height: 0;max-width: 0;overflow: hidden;text-align: left;background-color: #f0f8ff;}#sk-container-id-1 div.sk-toggleable__content pre {margin: 0.2em;color: black;border-radius: 0.25em;background-color: #f0f8ff;}#sk-container-id-1 input.sk-toggleable__control:checked~div.sk-toggleable__content {max-height: 200px;max-width: 100%;overflow: auto;}#sk-container-id-1 input.sk-toggleable__control:checked~label.sk-toggleable__label-arrow:before {content: \"▾\";}#sk-container-id-1 div.sk-estimator input.sk-toggleable__control:checked~label.sk-toggleable__label {background-color: #d4ebff;}#sk-container-id-1 div.sk-label input.sk-toggleable__control:checked~label.sk-toggleable__label {background-color: #d4ebff;}#sk-container-id-1 input.sk-hidden--visually {border: 0;clip: rect(1px 1px 1px 1px);clip: rect(1px, 1px, 1px, 1px);height: 1px;margin: -1px;overflow: hidden;padding: 0;position: absolute;width: 1px;}#sk-container-id-1 div.sk-estimator {font-family: monospace;background-color: #f0f8ff;border: 1px dotted black;border-radius: 0.25em;box-sizing: border-box;margin-bottom: 0.5em;}#sk-container-id-1 div.sk-estimator:hover {background-color: #d4ebff;}#sk-container-id-1 div.sk-parallel-item::after {content: \"\";width: 100%;border-bottom: 1px solid gray;flex-grow: 1;}#sk-container-id-1 div.sk-label:hover label.sk-toggleable__label {background-color: #d4ebff;}#sk-container-id-1 div.sk-serial::before {content: \"\";position: absolute;border-left: 1px solid gray;box-sizing: border-box;top: 0;bottom: 0;left: 50%;z-index: 0;}#sk-container-id-1 div.sk-serial {display: flex;flex-direction: column;align-items: center;background-color: white;padding-right: 0.2em;padding-left: 0.2em;position: relative;}#sk-container-id-1 div.sk-item {position: relative;z-index: 1;}#sk-container-id-1 div.sk-parallel {display: flex;align-items: stretch;justify-content: center;background-color: white;position: relative;}#sk-container-id-1 div.sk-item::before, #sk-container-id-1 div.sk-parallel-item::before {content: \"\";position: absolute;border-left: 1px solid gray;box-sizing: border-box;top: 0;bottom: 0;left: 50%;z-index: -1;}#sk-container-id-1 div.sk-parallel-item {display: flex;flex-direction: column;z-index: 1;position: relative;background-color: white;}#sk-container-id-1 div.sk-parallel-item:first-child::after {align-self: flex-end;width: 50%;}#sk-container-id-1 div.sk-parallel-item:last-child::after {align-self: flex-start;width: 50%;}#sk-container-id-1 div.sk-parallel-item:only-child::after {width: 0;}#sk-container-id-1 div.sk-dashed-wrapped {border: 1px dashed gray;margin: 0 0.4em 0.5em 0.4em;box-sizing: border-box;padding-bottom: 0.4em;background-color: white;}#sk-container-id-1 div.sk-label label {font-family: monospace;font-weight: bold;display: inline-block;line-height: 1.2em;}#sk-container-id-1 div.sk-label-container {text-align: center;}#sk-container-id-1 div.sk-container {/* jupyter's `normalize.less` sets `[hidden] { display: none; }` but bootstrap.min.css set `[hidden] { display: none !important; }` so we also need the `!important` here to be able to override the default hidden behavior on the sphinx rendered scikit-learn.org. See: https://github.com/scikit-learn/scikit-learn/issues/21755 */display: inline-block !important;position: relative;}#sk-container-id-1 div.sk-text-repr-fallback {display: none;}</style><div id=\"sk-container-id-1\" class=\"sk-top-container\"><div class=\"sk-text-repr-fallback\"><pre>XGBRegressor(base_score=None, booster=None, callbacks=None,\n",
       "             colsample_bylevel=None, colsample_bynode=None,\n",
       "             colsample_bytree=None, device=None, early_stopping_rounds=None,\n",
       "             enable_categorical=False, eval_metric=None, feature_types=None,\n",
       "             gamma=None, grow_policy=None, importance_type=None,\n",
       "             interaction_constraints=None, learning_rate=None, max_bin=None,\n",
       "             max_cat_threshold=None, max_cat_to_onehot=None,\n",
       "             max_delta_step=None, max_depth=None, max_leaves=None,\n",
       "             min_child_weight=None, missing=nan, monotone_constraints=None,\n",
       "             multi_strategy=None, n_estimators=None, n_jobs=None,\n",
       "             num_parallel_tree=None, random_state=42, ...)</pre><b>In a Jupyter environment, please rerun this cell to show the HTML representation or trust the notebook. <br />On GitHub, the HTML representation is unable to render, please try loading this page with nbviewer.org.</b></div><div class=\"sk-container\" hidden><div class=\"sk-item\"><div class=\"sk-estimator sk-toggleable\"><input class=\"sk-toggleable__control sk-hidden--visually\" id=\"sk-estimator-id-1\" type=\"checkbox\" checked><label for=\"sk-estimator-id-1\" class=\"sk-toggleable__label sk-toggleable__label-arrow\">XGBRegressor</label><div class=\"sk-toggleable__content\"><pre>XGBRegressor(base_score=None, booster=None, callbacks=None,\n",
       "             colsample_bylevel=None, colsample_bynode=None,\n",
       "             colsample_bytree=None, device=None, early_stopping_rounds=None,\n",
       "             enable_categorical=False, eval_metric=None, feature_types=None,\n",
       "             gamma=None, grow_policy=None, importance_type=None,\n",
       "             interaction_constraints=None, learning_rate=None, max_bin=None,\n",
       "             max_cat_threshold=None, max_cat_to_onehot=None,\n",
       "             max_delta_step=None, max_depth=None, max_leaves=None,\n",
       "             min_child_weight=None, missing=nan, monotone_constraints=None,\n",
       "             multi_strategy=None, n_estimators=None, n_jobs=None,\n",
       "             num_parallel_tree=None, random_state=42, ...)</pre></div></div></div></div></div>"
      ],
      "text/plain": [
       "XGBRegressor(base_score=None, booster=None, callbacks=None,\n",
       "             colsample_bylevel=None, colsample_bynode=None,\n",
       "             colsample_bytree=None, device=None, early_stopping_rounds=None,\n",
       "             enable_categorical=False, eval_metric=None, feature_types=None,\n",
       "             gamma=None, grow_policy=None, importance_type=None,\n",
       "             interaction_constraints=None, learning_rate=None, max_bin=None,\n",
       "             max_cat_threshold=None, max_cat_to_onehot=None,\n",
       "             max_delta_step=None, max_depth=None, max_leaves=None,\n",
       "             min_child_weight=None, missing=nan, monotone_constraints=None,\n",
       "             multi_strategy=None, n_estimators=None, n_jobs=None,\n",
       "             num_parallel_tree=None, random_state=42, ...)"
      ]
     },
     "execution_count": 51,
     "metadata": {},
     "output_type": "execute_result"
    }
   ],
   "source": [
    "xgb_model = xgb.XGBRegressor(objective=\"reg:squarederror\", random_state=42)\n",
    "xgb_model.fit(train_X, train_y.values.ravel())"
   ]
  },
  {
   "cell_type": "code",
   "execution_count": 52,
   "id": "3d82b787",
   "metadata": {},
   "outputs": [],
   "source": [
    "preds = xgb_model.predict(val_X)"
   ]
  },
  {
   "cell_type": "code",
   "execution_count": 53,
   "id": "3a0ac0f8",
   "metadata": {},
   "outputs": [],
   "source": [
    "preds = pd.DataFrame(preds)\n",
    "val_y = pd.DataFrame(val_y)\n",
    "val_y.reset_index(drop=True, inplace=True)"
   ]
  },
  {
   "cell_type": "code",
   "execution_count": 54,
   "id": "5e25a1b0",
   "metadata": {},
   "outputs": [],
   "source": [
    "val_y_unscaled = pd.DataFrame(y_scaler.inverse_transform(val_y))\n",
    "preds_unscaled = pd.DataFrame(y_scaler.inverse_transform(preds))"
   ]
  },
  {
   "cell_type": "code",
   "execution_count": 55,
   "id": "159faf25",
   "metadata": {},
   "outputs": [
    {
     "data": {
      "text/html": [
       "<div>\n",
       "<style scoped>\n",
       "    .dataframe tbody tr th:only-of-type {\n",
       "        vertical-align: middle;\n",
       "    }\n",
       "\n",
       "    .dataframe tbody tr th {\n",
       "        vertical-align: top;\n",
       "    }\n",
       "\n",
       "    .dataframe thead th {\n",
       "        text-align: right;\n",
       "    }\n",
       "</style>\n",
       "<table border=\"1\" class=\"dataframe\">\n",
       "  <thead>\n",
       "    <tr style=\"text-align: right;\">\n",
       "      <th></th>\n",
       "      <th>Actual Turbine Speed</th>\n",
       "    </tr>\n",
       "  </thead>\n",
       "  <tbody>\n",
       "    <tr>\n",
       "      <th>0</th>\n",
       "      <td>640.0</td>\n",
       "    </tr>\n",
       "    <tr>\n",
       "      <th>1</th>\n",
       "      <td>588.0</td>\n",
       "    </tr>\n",
       "    <tr>\n",
       "      <th>2</th>\n",
       "      <td>630.0</td>\n",
       "    </tr>\n",
       "    <tr>\n",
       "      <th>3</th>\n",
       "      <td>458.0</td>\n",
       "    </tr>\n",
       "    <tr>\n",
       "      <th>4</th>\n",
       "      <td>675.0</td>\n",
       "    </tr>\n",
       "    <tr>\n",
       "      <th>...</th>\n",
       "      <td>...</td>\n",
       "    </tr>\n",
       "    <tr>\n",
       "      <th>9185</th>\n",
       "      <td>660.0</td>\n",
       "    </tr>\n",
       "    <tr>\n",
       "      <th>9186</th>\n",
       "      <td>625.0</td>\n",
       "    </tr>\n",
       "    <tr>\n",
       "      <th>9187</th>\n",
       "      <td>571.0</td>\n",
       "    </tr>\n",
       "    <tr>\n",
       "      <th>9188</th>\n",
       "      <td>650.0</td>\n",
       "    </tr>\n",
       "    <tr>\n",
       "      <th>9189</th>\n",
       "      <td>444.0</td>\n",
       "    </tr>\n",
       "  </tbody>\n",
       "</table>\n",
       "<p>9190 rows × 1 columns</p>\n",
       "</div>"
      ],
      "text/plain": [
       "      Actual Turbine Speed\n",
       "0                    640.0\n",
       "1                    588.0\n",
       "2                    630.0\n",
       "3                    458.0\n",
       "4                    675.0\n",
       "...                    ...\n",
       "9185                 660.0\n",
       "9186                 625.0\n",
       "9187                 571.0\n",
       "9188                 650.0\n",
       "9189                 444.0\n",
       "\n",
       "[9190 rows x 1 columns]"
      ]
     },
     "execution_count": 55,
     "metadata": {},
     "output_type": "execute_result"
    }
   ],
   "source": [
    "val_y_unscaled.rename(columns={0: 'Actual Turbine Speed'}, inplace=True)\n",
    "val_y_unscaled"
   ]
  },
  {
   "cell_type": "code",
   "execution_count": 56,
   "id": "97c3dce7",
   "metadata": {},
   "outputs": [
    {
     "data": {
      "text/html": [
       "<div>\n",
       "<style scoped>\n",
       "    .dataframe tbody tr th:only-of-type {\n",
       "        vertical-align: middle;\n",
       "    }\n",
       "\n",
       "    .dataframe tbody tr th {\n",
       "        vertical-align: top;\n",
       "    }\n",
       "\n",
       "    .dataframe thead th {\n",
       "        text-align: right;\n",
       "    }\n",
       "</style>\n",
       "<table border=\"1\" class=\"dataframe\">\n",
       "  <thead>\n",
       "    <tr style=\"text-align: right;\">\n",
       "      <th></th>\n",
       "      <th>Predicted Turbine Speed</th>\n",
       "    </tr>\n",
       "  </thead>\n",
       "  <tbody>\n",
       "    <tr>\n",
       "      <th>0</th>\n",
       "      <td>636.171448</td>\n",
       "    </tr>\n",
       "    <tr>\n",
       "      <th>1</th>\n",
       "      <td>588.260803</td>\n",
       "    </tr>\n",
       "    <tr>\n",
       "      <th>2</th>\n",
       "      <td>636.521118</td>\n",
       "    </tr>\n",
       "    <tr>\n",
       "      <th>3</th>\n",
       "      <td>461.427856</td>\n",
       "    </tr>\n",
       "    <tr>\n",
       "      <th>4</th>\n",
       "      <td>675.606079</td>\n",
       "    </tr>\n",
       "    <tr>\n",
       "      <th>...</th>\n",
       "      <td>...</td>\n",
       "    </tr>\n",
       "    <tr>\n",
       "      <th>9185</th>\n",
       "      <td>658.500244</td>\n",
       "    </tr>\n",
       "    <tr>\n",
       "      <th>9186</th>\n",
       "      <td>627.180481</td>\n",
       "    </tr>\n",
       "    <tr>\n",
       "      <th>9187</th>\n",
       "      <td>568.483276</td>\n",
       "    </tr>\n",
       "    <tr>\n",
       "      <th>9188</th>\n",
       "      <td>642.502075</td>\n",
       "    </tr>\n",
       "    <tr>\n",
       "      <th>9189</th>\n",
       "      <td>443.065796</td>\n",
       "    </tr>\n",
       "  </tbody>\n",
       "</table>\n",
       "<p>9190 rows × 1 columns</p>\n",
       "</div>"
      ],
      "text/plain": [
       "      Predicted Turbine Speed\n",
       "0                  636.171448\n",
       "1                  588.260803\n",
       "2                  636.521118\n",
       "3                  461.427856\n",
       "4                  675.606079\n",
       "...                       ...\n",
       "9185               658.500244\n",
       "9186               627.180481\n",
       "9187               568.483276\n",
       "9188               642.502075\n",
       "9189               443.065796\n",
       "\n",
       "[9190 rows x 1 columns]"
      ]
     },
     "execution_count": 56,
     "metadata": {},
     "output_type": "execute_result"
    }
   ],
   "source": [
    "preds_unscaled.rename(columns={0: 'Predicted Turbine Speed'}, inplace=True)\n",
    "preds_unscaled"
   ]
  },
  {
   "cell_type": "code",
   "execution_count": 57,
   "id": "35ca76db",
   "metadata": {},
   "outputs": [],
   "source": [
    "combined_df = pd.concat([val_y_unscaled, preds_unscaled], axis=1)"
   ]
  },
  {
   "cell_type": "code",
   "execution_count": 58,
   "id": "35a7c265",
   "metadata": {},
   "outputs": [
    {
     "data": {
      "text/html": [
       "<div>\n",
       "<style scoped>\n",
       "    .dataframe tbody tr th:only-of-type {\n",
       "        vertical-align: middle;\n",
       "    }\n",
       "\n",
       "    .dataframe tbody tr th {\n",
       "        vertical-align: top;\n",
       "    }\n",
       "\n",
       "    .dataframe thead th {\n",
       "        text-align: right;\n",
       "    }\n",
       "</style>\n",
       "<table border=\"1\" class=\"dataframe\">\n",
       "  <thead>\n",
       "    <tr style=\"text-align: right;\">\n",
       "      <th></th>\n",
       "      <th>Actual Turbine Speed</th>\n",
       "      <th>Predicted Turbine Speed</th>\n",
       "    </tr>\n",
       "  </thead>\n",
       "  <tbody>\n",
       "    <tr>\n",
       "      <th>0</th>\n",
       "      <td>640.0</td>\n",
       "      <td>636.171448</td>\n",
       "    </tr>\n",
       "    <tr>\n",
       "      <th>1</th>\n",
       "      <td>588.0</td>\n",
       "      <td>588.260803</td>\n",
       "    </tr>\n",
       "    <tr>\n",
       "      <th>2</th>\n",
       "      <td>630.0</td>\n",
       "      <td>636.521118</td>\n",
       "    </tr>\n",
       "    <tr>\n",
       "      <th>3</th>\n",
       "      <td>458.0</td>\n",
       "      <td>461.427856</td>\n",
       "    </tr>\n",
       "    <tr>\n",
       "      <th>4</th>\n",
       "      <td>675.0</td>\n",
       "      <td>675.606079</td>\n",
       "    </tr>\n",
       "    <tr>\n",
       "      <th>...</th>\n",
       "      <td>...</td>\n",
       "      <td>...</td>\n",
       "    </tr>\n",
       "    <tr>\n",
       "      <th>9185</th>\n",
       "      <td>660.0</td>\n",
       "      <td>658.500244</td>\n",
       "    </tr>\n",
       "    <tr>\n",
       "      <th>9186</th>\n",
       "      <td>625.0</td>\n",
       "      <td>627.180481</td>\n",
       "    </tr>\n",
       "    <tr>\n",
       "      <th>9187</th>\n",
       "      <td>571.0</td>\n",
       "      <td>568.483276</td>\n",
       "    </tr>\n",
       "    <tr>\n",
       "      <th>9188</th>\n",
       "      <td>650.0</td>\n",
       "      <td>642.502075</td>\n",
       "    </tr>\n",
       "    <tr>\n",
       "      <th>9189</th>\n",
       "      <td>444.0</td>\n",
       "      <td>443.065796</td>\n",
       "    </tr>\n",
       "  </tbody>\n",
       "</table>\n",
       "<p>9190 rows × 2 columns</p>\n",
       "</div>"
      ],
      "text/plain": [
       "      Actual Turbine Speed  Predicted Turbine Speed\n",
       "0                    640.0               636.171448\n",
       "1                    588.0               588.260803\n",
       "2                    630.0               636.521118\n",
       "3                    458.0               461.427856\n",
       "4                    675.0               675.606079\n",
       "...                    ...                      ...\n",
       "9185                 660.0               658.500244\n",
       "9186                 625.0               627.180481\n",
       "9187                 571.0               568.483276\n",
       "9188                 650.0               642.502075\n",
       "9189                 444.0               443.065796\n",
       "\n",
       "[9190 rows x 2 columns]"
      ]
     },
     "execution_count": 58,
     "metadata": {},
     "output_type": "execute_result"
    }
   ],
   "source": [
    "combined_df"
   ]
  },
  {
   "cell_type": "code",
   "execution_count": 61,
   "id": "cacb43ce",
   "metadata": {},
   "outputs": [
    {
     "name": "stdout",
     "output_type": "stream",
     "text": [
      "MAE:  0.04944329288960195\n",
      "RMSE:  0.08265456310978701\n",
      "R2 Score:  0.9931783931047864\n"
     ]
    }
   ],
   "source": [
    "print(\"MAE: \", mean_absolute_error(val_y, preds))\n",
    "print(\"RMSE: \",np.sqrt(mean_squared_error(val_y, preds)))\n",
    "print(\"R2 Score: \", r2_score(val_y, preds))"
   ]
  },
  {
   "cell_type": "code",
   "execution_count": 62,
   "id": "07107e36",
   "metadata": {},
   "outputs": [
    {
     "data": {
      "text/plain": [
       "pandas.core.frame.DataFrame"
      ]
     },
     "execution_count": 62,
     "metadata": {},
     "output_type": "execute_result"
    }
   ],
   "source": [
    "type(val_y_unscaled)"
   ]
  },
  {
   "cell_type": "code",
   "execution_count": 63,
   "id": "af4fcab1",
   "metadata": {},
   "outputs": [
    {
     "data": {
      "text/plain": [
       "pandas.core.frame.DataFrame"
      ]
     },
     "execution_count": 63,
     "metadata": {},
     "output_type": "execute_result"
    }
   ],
   "source": [
    "type(preds_unscaled)"
   ]
  },
  {
   "cell_type": "code",
   "execution_count": 64,
   "id": "9727e4eb",
   "metadata": {},
   "outputs": [
    {
     "data": {
      "image/png": "[encoded data removed]",
      "text/plain": [
       "<Figure size 1000x600 with 1 Axes>"
      ]
     },
     "metadata": {},
     "output_type": "display_data"
    }
   ],
   "source": [
    "import matplotlib.pyplot as plt\n",
    "\n",
    "# Plotting the predicted vs actual values\n",
    "plt.figure(figsize=(10, 6))\n",
    "plt.plot(preds_unscaled[0:100].index, preds_unscaled[0:100].values, label='Mapped Turbine Speed', color='blue')\n",
    "plt.plot(val_y_unscaled[0:100].index, val_y_unscaled[0:100].values, label='Actual Turbine Speed', color='orange')\n",
    "\n",
    "plt.title('Comparison of Mapped and Actual Values')\n",
    "plt.xlabel('Index')\n",
    "plt.ylabel('Values')\n",
    "plt.legend()\n",
    "plt.show()"
   ]
  },
  {
   "cell_type": "code",
   "execution_count": null,
   "id": "a79f95ea",
   "metadata": {},
   "outputs": [],
   "source": []
  }
 ],
 "metadata": {
  "kernelspec": {
   "display_name": "Python 3 (ipykernel)",
   "language": "python",
   "name": "python3"
  },
  "language_info": {
   "codemirror_mode": {
    "name": "ipython",
    "version": 3
   },
   "file_extension": ".py",
   "mimetype": "text/x-python",
   "name": "python",
   "nbconvert_exporter": "python",
   "pygments_lexer": "ipython3",
   "version": "3.10.5"
  }
 },
 "nbformat": 4,
 "nbformat_minor": 5
}
