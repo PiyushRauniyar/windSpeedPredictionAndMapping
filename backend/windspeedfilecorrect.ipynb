{
 "cells": [
  {
   "cell_type": "code",
   "execution_count": 1,
   "id": "9b8e9357-b443-48f1-bc9a-7840262ba0ee",
   "metadata": {},
   "outputs": [
    {
     "name": "stdout",
     "output_type": "stream",
     "text": [
      "Index(['windgeber', '1730106021000000000', '2.4', '2.3'], dtype='object')\n"
     ]
    }
   ],
   "source": [
    "import pandas as pd\n",
    "\n",
    "# Load the CSV file in the other notebook\n",
    "data = pd.read_csv('WindgeberHD.csv', skiprows=1)  # Use your correct file path\n",
    "\n",
    "# Print the column names to check for any discrepancies\n",
    "print(data.columns)\n"
   ]
  },
  {
   "cell_type": "code",
   "execution_count": 2,
   "id": "61a061ec-2a2e-409b-87a3-a9183db3811c",
   "metadata": {},
   "outputs": [
    {
     "name": "stdout",
     "output_type": "stream",
     "text": [
      "0          windgeber\n",
      "1          windgeber\n",
      "2          windgeber\n",
      "3          windgeber\n",
      "4          windgeber\n",
      "             ...    \n",
      "1346137    windgeber\n",
      "1346138    windgeber\n",
      "1346139    windgeber\n",
      "1346140    windgeber\n",
      "1346141    windgeber\n",
      "Name: windgeber, Length: 1346142, dtype: object\n"
     ]
    }
   ],
   "source": [
    "# Check the first column (column 0) data\n",
    "print(data.iloc[:, 0])\n"
   ]
  },
  {
   "cell_type": "code",
   "execution_count": 3,
   "id": "60200697-ca15-4a8e-9cb6-77952b6ec9da",
   "metadata": {},
   "outputs": [
    {
     "name": "stdout",
     "output_type": "stream",
     "text": [
      "windgeber                        windgeber\n",
      "1730106021000000000    1730106022000000000\n",
      "2.4                                      2\n",
      "2.3                                    2.3\n",
      "Name: 0, dtype: object\n"
     ]
    }
   ],
   "source": [
    "# Check the first row (row 0) data\n",
    "print(data.iloc[0])\n"
   ]
  },
  {
   "cell_type": "code",
   "execution_count": 4,
   "id": "43f65cd8-ff48-4d8d-b236-2b29e7a69cc1",
   "metadata": {},
   "outputs": [
    {
     "name": "stdout",
     "output_type": "stream",
     "text": [
      "['windspeed' '2.4' '2' ... '0.8' '0.8' '1.2']\n"
     ]
    }
   ],
   "source": [
    "# Load the CSV file without specifying column names\n",
    "data = pd.read_csv('WindgeberHD.csv', header=None)\n",
    "\n",
    "# Access the third column (index 2)\n",
    "third_column_data = data.iloc[:, 2].values\n",
    "\n",
    "# Print the data in the third column\n",
    "print(third_column_data)\n"
   ]
  },
  {
   "cell_type": "code",
   "execution_count": 5,
   "id": "83848f8b-da2e-47b7-b8e5-577b8eda47e0",
   "metadata": {},
   "outputs": [
    {
     "name": "stdout",
     "output_type": "stream",
     "text": [
      "0          NaN\n",
      "1          2.4\n",
      "2          2.0\n",
      "3          2.4\n",
      "4          2.0\n",
      "          ... \n",
      "1346139    0.8\n",
      "1346140    0.8\n",
      "1346141    0.8\n",
      "1346142    0.8\n",
      "1346143    1.2\n",
      "Name: 2, Length: 1346144, dtype: float64\n"
     ]
    }
   ],
   "source": [
    "# Convert the third column to numeric values\n",
    "third_column_data = pd.to_numeric(data.iloc[:, 2], errors='coerce')\n",
    "\n",
    "# Print the cleaned data\n",
    "print(third_column_data)\n",
    "\n"
   ]
  },
  {
   "cell_type": "code",
   "execution_count": 6,
   "id": "1b451434-ae6f-4f19-abea-3236e655c3e0",
   "metadata": {},
   "outputs": [
    {
     "name": "stdout",
     "output_type": "stream",
     "text": [
      "1          2.4\n",
      "2          2.0\n",
      "3          2.4\n",
      "4          2.0\n",
      "5          2.4\n",
      "          ... \n",
      "1346139    0.8\n",
      "1346140    0.8\n",
      "1346141    0.8\n",
      "1346142    0.8\n",
      "1346143    1.2\n",
      "Name: 2, Length: 1346009, dtype: float64\n"
     ]
    }
   ],
   "source": [
    "# Remove rows with NaN values in the third column\n",
    "third_column_data = third_column_data.dropna()\n",
    "\n",
    "# Alternatively, you can fill NaN values with a specific value, like 0\n",
    "# third_column_data = third_column_data.fillna(0)\n",
    "\n",
    "# Print the cleaned data\n",
    "print(third_column_data)\n"
   ]
  },
  {
   "cell_type": "code",
   "execution_count": 7,
   "id": "0cd60a11-5305-4181-b903-22abd08a5688",
   "metadata": {},
   "outputs": [
    {
     "name": "stdout",
     "output_type": "stream",
     "text": [
      "           0                    1          2             3\n",
      "0       name                 time  windspeed  windspeed_MW\n",
      "1  windgeber  1730106021000000000        2.4           2.3\n",
      "2  windgeber  1730106022000000000          2           2.3\n",
      "3  windgeber  1730106023000000000        2.4           2.3\n",
      "4  windgeber  1730106024000000000          2           2.3\n"
     ]
    }
   ],
   "source": [
    "import pandas as pd\n",
    "\n",
    "# Load the CSV file without specifying column names (header=None)\n",
    "data = pd.read_csv('WindgeberHD.csv', header=None)\n",
    "\n",
    "# Check the data to ensure it loads correctly\n",
    "print(data.head())\n"
   ]
  },
  {
   "cell_type": "code",
   "execution_count": 8,
   "id": "836161c2-933c-420b-8101-6051df748753",
   "metadata": {},
   "outputs": [
    {
     "ename": "KeyError",
     "evalue": "'windspeed'",
     "output_type": "error",
     "traceback": [
      "\u001b[1;31m---------------------------------------------------------------------------\u001b[0m",
      "\u001b[1;31mKeyError\u001b[0m                                  Traceback (most recent call last)",
      "File \u001b[1;32m~\\AppData\\Local\\Programs\\Python\\Python312\\Lib\\site-packages\\pandas\\core\\indexes\\base.py:3805\u001b[0m, in \u001b[0;36mIndex.get_loc\u001b[1;34m(self, key)\u001b[0m\n\u001b[0;32m   3804\u001b[0m \u001b[38;5;28;01mtry\u001b[39;00m:\n\u001b[1;32m-> 3805\u001b[0m     \u001b[38;5;28;01mreturn\u001b[39;00m \u001b[38;5;28;43mself\u001b[39;49m\u001b[38;5;241;43m.\u001b[39;49m\u001b[43m_engine\u001b[49m\u001b[38;5;241;43m.\u001b[39;49m\u001b[43mget_loc\u001b[49m\u001b[43m(\u001b[49m\u001b[43mcasted_key\u001b[49m\u001b[43m)\u001b[49m\n\u001b[0;32m   3806\u001b[0m \u001b[38;5;28;01mexcept\u001b[39;00m \u001b[38;5;167;01mKeyError\u001b[39;00m \u001b[38;5;28;01mas\u001b[39;00m err:\n",
      "File \u001b[1;32mindex.pyx:167\u001b[0m, in \u001b[0;36mpandas._libs.index.IndexEngine.get_loc\u001b[1;34m()\u001b[0m\n",
      "File \u001b[1;32mindex.pyx:175\u001b[0m, in \u001b[0;36mpandas._libs.index.IndexEngine.get_loc\u001b[1;34m()\u001b[0m\n",
      "File \u001b[1;32mpandas\\\\_libs\\\\index_class_helper.pxi:70\u001b[0m, in \u001b[0;36mpandas._libs.index.Int64Engine._check_type\u001b[1;34m()\u001b[0m\n",
      "\u001b[1;31mKeyError\u001b[0m: 'windspeed'",
      "\nThe above exception was the direct cause of the following exception:\n",
      "\u001b[1;31mKeyError\u001b[0m                                  Traceback (most recent call last)",
      "Cell \u001b[1;32mIn[8], line 2\u001b[0m\n\u001b[0;32m      1\u001b[0m \u001b[38;5;66;03m# Convert the 'windspeed' column to numeric, handling errors\u001b[39;00m\n\u001b[1;32m----> 2\u001b[0m data[\u001b[38;5;124m'\u001b[39m\u001b[38;5;124mwindspeed\u001b[39m\u001b[38;5;124m'\u001b[39m] \u001b[38;5;241m=\u001b[39m pd\u001b[38;5;241m.\u001b[39mto_numeric(\u001b[43mdata\u001b[49m\u001b[43m[\u001b[49m\u001b[38;5;124;43m'\u001b[39;49m\u001b[38;5;124;43mwindspeed\u001b[39;49m\u001b[38;5;124;43m'\u001b[39;49m\u001b[43m]\u001b[49m, errors\u001b[38;5;241m=\u001b[39m\u001b[38;5;124m'\u001b[39m\u001b[38;5;124mcoerce\u001b[39m\u001b[38;5;124m'\u001b[39m)\n\u001b[0;32m      4\u001b[0m \u001b[38;5;66;03m# Optionally handle NaN values (e.g., by filling with 0 or dropping them)\u001b[39;00m\n\u001b[0;32m      5\u001b[0m data[\u001b[38;5;124m'\u001b[39m\u001b[38;5;124mwindspeed\u001b[39m\u001b[38;5;124m'\u001b[39m] \u001b[38;5;241m=\u001b[39m data[\u001b[38;5;124m'\u001b[39m\u001b[38;5;124mwindspeed\u001b[39m\u001b[38;5;124m'\u001b[39m]\u001b[38;5;241m.\u001b[39mfillna(\u001b[38;5;241m0\u001b[39m)\n",
      "File \u001b[1;32m~\\AppData\\Local\\Programs\\Python\\Python312\\Lib\\site-packages\\pandas\\core\\frame.py:4102\u001b[0m, in \u001b[0;36mDataFrame.__getitem__\u001b[1;34m(self, key)\u001b[0m\n\u001b[0;32m   4100\u001b[0m \u001b[38;5;28;01mif\u001b[39;00m \u001b[38;5;28mself\u001b[39m\u001b[38;5;241m.\u001b[39mcolumns\u001b[38;5;241m.\u001b[39mnlevels \u001b[38;5;241m>\u001b[39m \u001b[38;5;241m1\u001b[39m:\n\u001b[0;32m   4101\u001b[0m     \u001b[38;5;28;01mreturn\u001b[39;00m \u001b[38;5;28mself\u001b[39m\u001b[38;5;241m.\u001b[39m_getitem_multilevel(key)\n\u001b[1;32m-> 4102\u001b[0m indexer \u001b[38;5;241m=\u001b[39m \u001b[38;5;28;43mself\u001b[39;49m\u001b[38;5;241;43m.\u001b[39;49m\u001b[43mcolumns\u001b[49m\u001b[38;5;241;43m.\u001b[39;49m\u001b[43mget_loc\u001b[49m\u001b[43m(\u001b[49m\u001b[43mkey\u001b[49m\u001b[43m)\u001b[49m\n\u001b[0;32m   4103\u001b[0m \u001b[38;5;28;01mif\u001b[39;00m is_integer(indexer):\n\u001b[0;32m   4104\u001b[0m     indexer \u001b[38;5;241m=\u001b[39m [indexer]\n",
      "File \u001b[1;32m~\\AppData\\Local\\Programs\\Python\\Python312\\Lib\\site-packages\\pandas\\core\\indexes\\base.py:3812\u001b[0m, in \u001b[0;36mIndex.get_loc\u001b[1;34m(self, key)\u001b[0m\n\u001b[0;32m   3807\u001b[0m     \u001b[38;5;28;01mif\u001b[39;00m \u001b[38;5;28misinstance\u001b[39m(casted_key, \u001b[38;5;28mslice\u001b[39m) \u001b[38;5;129;01mor\u001b[39;00m (\n\u001b[0;32m   3808\u001b[0m         \u001b[38;5;28misinstance\u001b[39m(casted_key, abc\u001b[38;5;241m.\u001b[39mIterable)\n\u001b[0;32m   3809\u001b[0m         \u001b[38;5;129;01mand\u001b[39;00m \u001b[38;5;28many\u001b[39m(\u001b[38;5;28misinstance\u001b[39m(x, \u001b[38;5;28mslice\u001b[39m) \u001b[38;5;28;01mfor\u001b[39;00m x \u001b[38;5;129;01min\u001b[39;00m casted_key)\n\u001b[0;32m   3810\u001b[0m     ):\n\u001b[0;32m   3811\u001b[0m         \u001b[38;5;28;01mraise\u001b[39;00m InvalidIndexError(key)\n\u001b[1;32m-> 3812\u001b[0m     \u001b[38;5;28;01mraise\u001b[39;00m \u001b[38;5;167;01mKeyError\u001b[39;00m(key) \u001b[38;5;28;01mfrom\u001b[39;00m \u001b[38;5;21;01merr\u001b[39;00m\n\u001b[0;32m   3813\u001b[0m \u001b[38;5;28;01mexcept\u001b[39;00m \u001b[38;5;167;01mTypeError\u001b[39;00m:\n\u001b[0;32m   3814\u001b[0m     \u001b[38;5;66;03m# If we have a listlike key, _check_indexing_error will raise\u001b[39;00m\n\u001b[0;32m   3815\u001b[0m     \u001b[38;5;66;03m#  InvalidIndexError. Otherwise we fall through and re-raise\u001b[39;00m\n\u001b[0;32m   3816\u001b[0m     \u001b[38;5;66;03m#  the TypeError.\u001b[39;00m\n\u001b[0;32m   3817\u001b[0m     \u001b[38;5;28mself\u001b[39m\u001b[38;5;241m.\u001b[39m_check_indexing_error(key)\n",
      "\u001b[1;31mKeyError\u001b[0m: 'windspeed'"
     ]
    }
   ],
   "source": [
    "# Convert the 'windspeed' column to numeric, handling errors\n",
    "data['windspeed'] = pd.to_numeric(data['windspeed'], errors='coerce')\n",
    "\n",
    "# Optionally handle NaN values (e.g., by filling with 0 or dropping them)\n",
    "data['windspeed'] = data['windspeed'].fillna(0)\n",
    "\n",
    "# Check the first few rows to verify the changes\n",
    "print(data.head())\n"
   ]
  },
  {
   "cell_type": "code",
   "execution_count": 9,
   "id": "cd5d63b8-4a10-4cbe-8746-231e2b5795de",
   "metadata": {},
   "outputs": [
    {
     "name": "stdout",
     "output_type": "stream",
     "text": [
      "Index(['name', 'time', 'windspeed', 'windspeed_MW'], dtype='object')\n"
     ]
    }
   ],
   "source": [
    "import pandas as pd\n",
    "\n",
    "# Load the CSV file, assuming the first row contains headers\n",
    "data = pd.read_csv('WindgeberHD.csv', header=0)\n",
    "\n",
    "# Print column names to check if 'windspeed' exists\n",
    "print(data.columns)\n"
   ]
  },
  {
   "cell_type": "code",
   "execution_count": 10,
   "id": "be196f5a-026f-4d64-a82a-e15c64058016",
   "metadata": {},
   "outputs": [
    {
     "name": "stdout",
     "output_type": "stream",
     "text": [
      "        name                 time  windspeed windspeed_MW\n",
      "0  windgeber  1730106021000000000        2.4          2.3\n",
      "1  windgeber  1730106022000000000        2.0          2.3\n",
      "2  windgeber  1730106023000000000        2.4          2.3\n",
      "3  windgeber  1730106024000000000        2.0          2.3\n",
      "4  windgeber  1730106025000000000        2.4          2.2\n"
     ]
    }
   ],
   "source": [
    "# Convert the 'windspeed' column to numeric, handling errors\n",
    "data['windspeed'] = pd.to_numeric(data['windspeed'], errors='coerce')\n",
    "\n",
    "# Optional: Handle NaN values (e.g., by filling with 0 or dropping them)\n",
    "data['windspeed'] = data['windspeed'].fillna(0)\n",
    "\n",
    "# Check the first few rows to verify the changes\n",
    "print(data.head())\n"
   ]
  },
  {
   "cell_type": "code",
   "execution_count": 13,
   "id": "f968281f-fe2f-4b22-9843-6544ad04d355",
   "metadata": {},
   "outputs": [
    {
     "name": "stdout",
     "output_type": "stream",
     "text": [
      "        name                 time  windspeed windspeed_MW\n",
      "0  windgeber  1730106021000000000        2.4          2.3\n",
      "1  windgeber  1730106022000000000        2.0          2.3\n",
      "2  windgeber  1730106023000000000        2.4          2.3\n",
      "3  windgeber  1730106024000000000        2.0          2.3\n",
      "4  windgeber  1730106025000000000        2.4          2.2\n"
     ]
    }
   ],
   "source": [
    "# Convert the 'windspeed' column to numeric, handling errors\n",
    "data['windspeed'] = pd.to_numeric(data['windspeed'], errors='coerce')\n",
    "\n",
    "# Optional: Handle NaN values (e.g., by filling with 0 or dropping them)\n",
    "data['windspeed'] = data['windspeed'].fillna(0)\n",
    "\n",
    "# Check the first few rows to verify the changes\n",
    "print(data.head())\n"
   ]
  },
  {
   "cell_type": "code",
   "execution_count": 14,
   "id": "f24ba461-54dc-4f5f-b6a5-34ee7fa8bd94",
   "metadata": {},
   "outputs": [],
   "source": [
    "# Save the modified DataFrame back to the original CSV file\n",
    "data.to_csv('WindgeberHD.csv', index=False)\n"
   ]
  },
  {
   "cell_type": "code",
   "execution_count": 15,
   "id": "96b55d31-8bba-4d8a-b491-622f916d1c05",
   "metadata": {},
   "outputs": [
    {
     "name": "stdout",
     "output_type": "stream",
     "text": [
      "        name                 time  windspeed windspeed_MW\n",
      "0  windgeber  1730106021000000000        2.4          2.3\n",
      "1  windgeber  1730106022000000000        2.0          2.3\n",
      "2  windgeber  1730106023000000000        2.4          2.3\n",
      "3  windgeber  1730106024000000000        2.0          2.3\n",
      "4  windgeber  1730106025000000000        2.4          2.2\n"
     ]
    }
   ],
   "source": [
    "# Reload the file to verify the changes\n",
    "updated_data = pd.read_csv('WindgeberHD.csv')\n",
    "\n",
    "# Print the first few rows to confirm\n",
    "print(updated_data.head())\n"
   ]
  },
  {
   "cell_type": "code",
   "execution_count": 2,
   "id": "b0b3f360-c234-4fc2-a991-c459bab2197d",
   "metadata": {},
   "outputs": [
    {
     "name": "stdout",
     "output_type": "stream",
     "text": [
      "File processed and saved successfully.\n"
     ]
    }
   ],
   "source": [
    "import pandas as pd\n",
    "\n",
    "# Define the file path once at the top\n",
    "file_path = 'WindgeberHD.csv'\n",
    "\n",
    "# Load the CSV file, assuming the first row contains headers\n",
    "data = pd.read_csv(file_path, header=0)\n",
    "\n",
    "# Convert the 'windspeed' column to numeric, handling errors\n",
    "data['windspeed'] = pd.to_numeric(data['windspeed'], errors='coerce').fillna(0)\n",
    "\n",
    "# Save the modified DataFrame back to the original CSV file\n",
    "data.to_csv(file_path, index=False)\n",
    "\n",
    "print(\"File processed and saved successfully.\")\n"
   ]
  },
  {
   "cell_type": "code",
   "execution_count": null,
   "id": "c715d261-b558-49b2-86a7-8bf582c96b68",
   "metadata": {},
   "outputs": [],
   "source": []
  }
 ],
 "metadata": {
  "kernelspec": {
   "display_name": "Python 3 (ipykernel)",
   "language": "python",
   "name": "python3"
  },
  "language_info": {
   "codemirror_mode": {
    "name": "ipython",
    "version": 3
   },
   "file_extension": ".py",
   "mimetype": "text/x-python",
   "name": "python",
   "nbconvert_exporter": "python",
   "pygments_lexer": "ipython3",
   "version": "3.12.6"
  }
 },
 "nbformat": 4,
 "nbformat_minor": 5
}
